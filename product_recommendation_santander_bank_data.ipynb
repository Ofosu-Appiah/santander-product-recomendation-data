{
 "cells": [
  {
   "cell_type": "markdown",
   "metadata": {},
   "source": [
    "This project used a data released by Santander bank of Spain to determine how certain customer features influence \n",
    "the product they buy from the bank using chi square test for independence.The project also developed a model to investigate\n",
    "how these factors can help to predict the likely product the customer will purchase using multinomial logistic regression. \n",
    "The data consisted of 13647309 entries with 48 columns from customers of the bank"
   ]
  },
  {
   "cell_type": "code",
   "execution_count": null,
   "metadata": {},
   "outputs": [],
   "source": [
    "Import the necessary libraries"
   ]
  },
  {
   "cell_type": "code",
   "execution_count": 1,
   "metadata": {},
   "outputs": [],
   "source": [
    "import numpy as np\n",
    "import pandas as pd\n",
    "import seaborn as sns\n",
    "import matplotlib.pyplot as plt\n",
    "import plotly.express as px\n",
    "from scipy.stats import chi2_contingency"
   ]
  },
  {
   "cell_type": "markdown",
   "metadata": {},
   "source": [
    "Load the datasets\n"
   ]
  },
  {
   "cell_type": "code",
   "execution_count": 2,
   "metadata": {},
   "outputs": [
    {
     "name": "stderr",
     "output_type": "stream",
     "text": [
      "C:\\Users\\cofos\\anaconda3\\lib\\site-packages\\IPython\\core\\interactiveshell.py:3071: DtypeWarning: Columns (11,15) have mixed types.Specify dtype option on import or set low_memory=False.\n",
      "  has_raised = await self.run_ast_nodes(code_ast.body, cell_name,\n"
     ]
    },
    {
     "data": {
      "text/html": [
       "<div>\n",
       "<style scoped>\n",
       "    .dataframe tbody tr th:only-of-type {\n",
       "        vertical-align: middle;\n",
       "    }\n",
       "\n",
       "    .dataframe tbody tr th {\n",
       "        vertical-align: top;\n",
       "    }\n",
       "\n",
       "    .dataframe thead th {\n",
       "        text-align: right;\n",
       "    }\n",
       "</style>\n",
       "<table border=\"1\" class=\"dataframe\">\n",
       "  <thead>\n",
       "    <tr style=\"text-align: right;\">\n",
       "      <th></th>\n",
       "      <th>fecha_dato</th>\n",
       "      <th>ncodpers</th>\n",
       "      <th>ind_empleado</th>\n",
       "      <th>pais_residencia</th>\n",
       "      <th>sexo</th>\n",
       "      <th>age</th>\n",
       "      <th>fecha_alta</th>\n",
       "      <th>ind_nuevo</th>\n",
       "      <th>antiguedad</th>\n",
       "      <th>indrel</th>\n",
       "      <th>...</th>\n",
       "      <th>ind_hip_fin_ult1</th>\n",
       "      <th>ind_plan_fin_ult1</th>\n",
       "      <th>ind_pres_fin_ult1</th>\n",
       "      <th>ind_reca_fin_ult1</th>\n",
       "      <th>ind_tjcr_fin_ult1</th>\n",
       "      <th>ind_valo_fin_ult1</th>\n",
       "      <th>ind_viv_fin_ult1</th>\n",
       "      <th>ind_nomina_ult1</th>\n",
       "      <th>ind_nom_pens_ult1</th>\n",
       "      <th>ind_recibo_ult1</th>\n",
       "    </tr>\n",
       "  </thead>\n",
       "  <tbody>\n",
       "    <tr>\n",
       "      <th>0</th>\n",
       "      <td>2016-03-28</td>\n",
       "      <td>1418933</td>\n",
       "      <td>N</td>\n",
       "      <td>ES</td>\n",
       "      <td>H</td>\n",
       "      <td>21</td>\n",
       "      <td>2015-07-28</td>\n",
       "      <td>0.0</td>\n",
       "      <td>8</td>\n",
       "      <td>1.0</td>\n",
       "      <td>...</td>\n",
       "      <td>0</td>\n",
       "      <td>0</td>\n",
       "      <td>0</td>\n",
       "      <td>0</td>\n",
       "      <td>0</td>\n",
       "      <td>0</td>\n",
       "      <td>0</td>\n",
       "      <td>0.0</td>\n",
       "      <td>0.0</td>\n",
       "      <td>0</td>\n",
       "    </tr>\n",
       "    <tr>\n",
       "      <th>1</th>\n",
       "      <td>2016-01-28</td>\n",
       "      <td>1456556</td>\n",
       "      <td>N</td>\n",
       "      <td>ES</td>\n",
       "      <td>H</td>\n",
       "      <td>21</td>\n",
       "      <td>2015-09-22</td>\n",
       "      <td>1.0</td>\n",
       "      <td>4</td>\n",
       "      <td>1.0</td>\n",
       "      <td>...</td>\n",
       "      <td>0</td>\n",
       "      <td>0</td>\n",
       "      <td>0</td>\n",
       "      <td>0</td>\n",
       "      <td>0</td>\n",
       "      <td>0</td>\n",
       "      <td>0</td>\n",
       "      <td>0.0</td>\n",
       "      <td>0.0</td>\n",
       "      <td>0</td>\n",
       "    </tr>\n",
       "    <tr>\n",
       "      <th>2</th>\n",
       "      <td>2015-07-28</td>\n",
       "      <td>536870</td>\n",
       "      <td>N</td>\n",
       "      <td>ES</td>\n",
       "      <td>V</td>\n",
       "      <td>55</td>\n",
       "      <td>2005-06-10</td>\n",
       "      <td>0.0</td>\n",
       "      <td>121</td>\n",
       "      <td>1.0</td>\n",
       "      <td>...</td>\n",
       "      <td>0</td>\n",
       "      <td>0</td>\n",
       "      <td>0</td>\n",
       "      <td>0</td>\n",
       "      <td>0</td>\n",
       "      <td>0</td>\n",
       "      <td>0</td>\n",
       "      <td>0.0</td>\n",
       "      <td>0.0</td>\n",
       "      <td>0</td>\n",
       "    </tr>\n",
       "    <tr>\n",
       "      <th>3</th>\n",
       "      <td>2015-07-28</td>\n",
       "      <td>1164437</td>\n",
       "      <td>N</td>\n",
       "      <td>ES</td>\n",
       "      <td>V</td>\n",
       "      <td>24</td>\n",
       "      <td>2013-08-13</td>\n",
       "      <td>0.0</td>\n",
       "      <td>23</td>\n",
       "      <td>1.0</td>\n",
       "      <td>...</td>\n",
       "      <td>0</td>\n",
       "      <td>0</td>\n",
       "      <td>0</td>\n",
       "      <td>0</td>\n",
       "      <td>0</td>\n",
       "      <td>0</td>\n",
       "      <td>0</td>\n",
       "      <td>0.0</td>\n",
       "      <td>0.0</td>\n",
       "      <td>0</td>\n",
       "    </tr>\n",
       "    <tr>\n",
       "      <th>4</th>\n",
       "      <td>2016-04-28</td>\n",
       "      <td>1539410</td>\n",
       "      <td>N</td>\n",
       "      <td>ES</td>\n",
       "      <td>V</td>\n",
       "      <td>56</td>\n",
       "      <td>2016-03-14</td>\n",
       "      <td>1.0</td>\n",
       "      <td>1</td>\n",
       "      <td>1.0</td>\n",
       "      <td>...</td>\n",
       "      <td>0</td>\n",
       "      <td>0</td>\n",
       "      <td>0</td>\n",
       "      <td>0</td>\n",
       "      <td>0</td>\n",
       "      <td>0</td>\n",
       "      <td>0</td>\n",
       "      <td>0.0</td>\n",
       "      <td>0.0</td>\n",
       "      <td>1</td>\n",
       "    </tr>\n",
       "  </tbody>\n",
       "</table>\n",
       "<p>5 rows × 48 columns</p>\n",
       "</div>"
      ],
      "text/plain": [
       "   fecha_dato  ncodpers ind_empleado pais_residencia sexo  age  fecha_alta  \\\n",
       "0  2016-03-28   1418933            N              ES    H   21  2015-07-28   \n",
       "1  2016-01-28   1456556            N              ES    H   21  2015-09-22   \n",
       "2  2015-07-28    536870            N              ES    V   55  2005-06-10   \n",
       "3  2015-07-28   1164437            N              ES    V   24  2013-08-13   \n",
       "4  2016-04-28   1539410            N              ES    V   56  2016-03-14   \n",
       "\n",
       "   ind_nuevo antiguedad  indrel  ... ind_hip_fin_ult1 ind_plan_fin_ult1  \\\n",
       "0        0.0          8     1.0  ...                0                 0   \n",
       "1        1.0          4     1.0  ...                0                 0   \n",
       "2        0.0        121     1.0  ...                0                 0   \n",
       "3        0.0         23     1.0  ...                0                 0   \n",
       "4        1.0          1     1.0  ...                0                 0   \n",
       "\n",
       "  ind_pres_fin_ult1 ind_reca_fin_ult1 ind_tjcr_fin_ult1 ind_valo_fin_ult1  \\\n",
       "0                 0                 0                 0                 0   \n",
       "1                 0                 0                 0                 0   \n",
       "2                 0                 0                 0                 0   \n",
       "3                 0                 0                 0                 0   \n",
       "4                 0                 0                 0                 0   \n",
       "\n",
       "  ind_viv_fin_ult1 ind_nomina_ult1  ind_nom_pens_ult1  ind_recibo_ult1  \n",
       "0                0             0.0                0.0                0  \n",
       "1                0             0.0                0.0                0  \n",
       "2                0             0.0                0.0                0  \n",
       "3                0             0.0                0.0                0  \n",
       "4                0             0.0                0.0                1  \n",
       "\n",
       "[5 rows x 48 columns]"
      ]
     },
     "execution_count": 2,
     "metadata": {},
     "output_type": "execute_result"
    }
   ],
   "source": [
    "df = pd.read_csv('\\\\Users\\\\cofos\\\\Downloads\\\\train_sample.csv')\n",
    "df.head()"
   ]
  },
  {
   "cell_type": "code",
   "execution_count": 3,
   "metadata": {},
   "outputs": [
    {
     "name": "stdout",
     "output_type": "stream",
     "text": [
      "<class 'pandas.core.frame.DataFrame'>\n",
      "RangeIndex: 3000000 entries, 0 to 2999999\n",
      "Data columns (total 48 columns):\n",
      " #   Column                 Dtype  \n",
      "---  ------                 -----  \n",
      " 0   fecha_dato             object \n",
      " 1   ncodpers               int64  \n",
      " 2   ind_empleado           object \n",
      " 3   pais_residencia        object \n",
      " 4   sexo                   object \n",
      " 5   age                    object \n",
      " 6   fecha_alta             object \n",
      " 7   ind_nuevo              float64\n",
      " 8   antiguedad             object \n",
      " 9   indrel                 float64\n",
      " 10  ult_fec_cli_1t         object \n",
      " 11  indrel_1mes            object \n",
      " 12  tiprel_1mes            object \n",
      " 13  indresi                object \n",
      " 14  indext                 object \n",
      " 15  conyuemp               object \n",
      " 16  canal_entrada          object \n",
      " 17  indfall                object \n",
      " 18  tipodom                float64\n",
      " 19  cod_prov               float64\n",
      " 20  nomprov                object \n",
      " 21  ind_actividad_cliente  float64\n",
      " 22  renta                  float64\n",
      " 23  segmento               object \n",
      " 24  ind_ahor_fin_ult1      int64  \n",
      " 25  ind_aval_fin_ult1      int64  \n",
      " 26  ind_cco_fin_ult1       int64  \n",
      " 27  ind_cder_fin_ult1      int64  \n",
      " 28  ind_cno_fin_ult1       int64  \n",
      " 29  ind_ctju_fin_ult1      int64  \n",
      " 30  ind_ctma_fin_ult1      int64  \n",
      " 31  ind_ctop_fin_ult1      int64  \n",
      " 32  ind_ctpp_fin_ult1      int64  \n",
      " 33  ind_deco_fin_ult1      int64  \n",
      " 34  ind_deme_fin_ult1      int64  \n",
      " 35  ind_dela_fin_ult1      int64  \n",
      " 36  ind_ecue_fin_ult1      int64  \n",
      " 37  ind_fond_fin_ult1      int64  \n",
      " 38  ind_hip_fin_ult1       int64  \n",
      " 39  ind_plan_fin_ult1      int64  \n",
      " 40  ind_pres_fin_ult1      int64  \n",
      " 41  ind_reca_fin_ult1      int64  \n",
      " 42  ind_tjcr_fin_ult1      int64  \n",
      " 43  ind_valo_fin_ult1      int64  \n",
      " 44  ind_viv_fin_ult1       int64  \n",
      " 45  ind_nomina_ult1        float64\n",
      " 46  ind_nom_pens_ult1      float64\n",
      " 47  ind_recibo_ult1        int64  \n",
      "dtypes: float64(8), int64(23), object(17)\n",
      "memory usage: 1.1+ GB\n"
     ]
    }
   ],
   "source": [
    "df.info()"
   ]
  },
  {
   "cell_type": "code",
   "execution_count": 4,
   "metadata": {},
   "outputs": [
    {
     "data": {
      "text/html": [
       "<div>\n",
       "<style scoped>\n",
       "    .dataframe tbody tr th:only-of-type {\n",
       "        vertical-align: middle;\n",
       "    }\n",
       "\n",
       "    .dataframe tbody tr th {\n",
       "        vertical-align: top;\n",
       "    }\n",
       "\n",
       "    .dataframe thead th {\n",
       "        text-align: right;\n",
       "    }\n",
       "</style>\n",
       "<table border=\"1\" class=\"dataframe\">\n",
       "  <thead>\n",
       "    <tr style=\"text-align: right;\">\n",
       "      <th></th>\n",
       "      <th>ncodpers</th>\n",
       "      <th>ind_nuevo</th>\n",
       "      <th>indrel</th>\n",
       "      <th>tipodom</th>\n",
       "      <th>cod_prov</th>\n",
       "      <th>ind_actividad_cliente</th>\n",
       "      <th>renta</th>\n",
       "      <th>ind_ahor_fin_ult1</th>\n",
       "      <th>ind_aval_fin_ult1</th>\n",
       "      <th>ind_cco_fin_ult1</th>\n",
       "      <th>...</th>\n",
       "      <th>ind_hip_fin_ult1</th>\n",
       "      <th>ind_plan_fin_ult1</th>\n",
       "      <th>ind_pres_fin_ult1</th>\n",
       "      <th>ind_reca_fin_ult1</th>\n",
       "      <th>ind_tjcr_fin_ult1</th>\n",
       "      <th>ind_valo_fin_ult1</th>\n",
       "      <th>ind_viv_fin_ult1</th>\n",
       "      <th>ind_nomina_ult1</th>\n",
       "      <th>ind_nom_pens_ult1</th>\n",
       "      <th>ind_recibo_ult1</th>\n",
       "    </tr>\n",
       "  </thead>\n",
       "  <tbody>\n",
       "    <tr>\n",
       "      <th>count</th>\n",
       "      <td>3.000000e+06</td>\n",
       "      <td>2.993857e+06</td>\n",
       "      <td>2.993857e+06</td>\n",
       "      <td>2993856.0</td>\n",
       "      <td>2.979294e+06</td>\n",
       "      <td>2.993857e+06</td>\n",
       "      <td>2.385195e+06</td>\n",
       "      <td>3.000000e+06</td>\n",
       "      <td>3.000000e+06</td>\n",
       "      <td>3.000000e+06</td>\n",
       "      <td>...</td>\n",
       "      <td>3.000000e+06</td>\n",
       "      <td>3.000000e+06</td>\n",
       "      <td>3.000000e+06</td>\n",
       "      <td>3.000000e+06</td>\n",
       "      <td>3.000000e+06</td>\n",
       "      <td>3.000000e+06</td>\n",
       "      <td>3.000000e+06</td>\n",
       "      <td>2.996498e+06</td>\n",
       "      <td>2.996498e+06</td>\n",
       "      <td>3.000000e+06</td>\n",
       "    </tr>\n",
       "    <tr>\n",
       "      <th>mean</th>\n",
       "      <td>8.348361e+05</td>\n",
       "      <td>5.962743e-02</td>\n",
       "      <td>1.176729e+00</td>\n",
       "      <td>1.0</td>\n",
       "      <td>2.658404e+01</td>\n",
       "      <td>4.578552e-01</td>\n",
       "      <td>1.343037e+05</td>\n",
       "      <td>1.023333e-04</td>\n",
       "      <td>2.433333e-05</td>\n",
       "      <td>6.557817e-01</td>\n",
       "      <td>...</td>\n",
       "      <td>5.897000e-03</td>\n",
       "      <td>9.093667e-03</td>\n",
       "      <td>2.617000e-03</td>\n",
       "      <td>5.254733e-02</td>\n",
       "      <td>4.430600e-02</td>\n",
       "      <td>2.563600e-02</td>\n",
       "      <td>3.865000e-03</td>\n",
       "      <td>5.471520e-02</td>\n",
       "      <td>5.939700e-02</td>\n",
       "      <td>1.275767e-01</td>\n",
       "    </tr>\n",
       "    <tr>\n",
       "      <th>std</th>\n",
       "      <td>4.315100e+05</td>\n",
       "      <td>2.367953e-01</td>\n",
       "      <td>4.157912e+00</td>\n",
       "      <td>0.0</td>\n",
       "      <td>1.277960e+01</td>\n",
       "      <td>4.982207e-01</td>\n",
       "      <td>2.324808e+05</td>\n",
       "      <td>1.011548e-02</td>\n",
       "      <td>4.932824e-03</td>\n",
       "      <td>4.751128e-01</td>\n",
       "      <td>...</td>\n",
       "      <td>7.656518e-02</td>\n",
       "      <td>9.492615e-02</td>\n",
       "      <td>5.108965e-02</td>\n",
       "      <td>2.231281e-01</td>\n",
       "      <td>2.057741e-01</td>\n",
       "      <td>1.580468e-01</td>\n",
       "      <td>6.204888e-02</td>\n",
       "      <td>2.274235e-01</td>\n",
       "      <td>2.363663e-01</td>\n",
       "      <td>3.336179e-01</td>\n",
       "    </tr>\n",
       "    <tr>\n",
       "      <th>min</th>\n",
       "      <td>1.588900e+04</td>\n",
       "      <td>0.000000e+00</td>\n",
       "      <td>1.000000e+00</td>\n",
       "      <td>1.0</td>\n",
       "      <td>1.000000e+00</td>\n",
       "      <td>0.000000e+00</td>\n",
       "      <td>1.202730e+03</td>\n",
       "      <td>0.000000e+00</td>\n",
       "      <td>0.000000e+00</td>\n",
       "      <td>0.000000e+00</td>\n",
       "      <td>...</td>\n",
       "      <td>0.000000e+00</td>\n",
       "      <td>0.000000e+00</td>\n",
       "      <td>0.000000e+00</td>\n",
       "      <td>0.000000e+00</td>\n",
       "      <td>0.000000e+00</td>\n",
       "      <td>0.000000e+00</td>\n",
       "      <td>0.000000e+00</td>\n",
       "      <td>0.000000e+00</td>\n",
       "      <td>0.000000e+00</td>\n",
       "      <td>0.000000e+00</td>\n",
       "    </tr>\n",
       "    <tr>\n",
       "      <th>25%</th>\n",
       "      <td>4.526070e+05</td>\n",
       "      <td>0.000000e+00</td>\n",
       "      <td>1.000000e+00</td>\n",
       "      <td>1.0</td>\n",
       "      <td>1.500000e+01</td>\n",
       "      <td>0.000000e+00</td>\n",
       "      <td>6.873924e+04</td>\n",
       "      <td>0.000000e+00</td>\n",
       "      <td>0.000000e+00</td>\n",
       "      <td>0.000000e+00</td>\n",
       "      <td>...</td>\n",
       "      <td>0.000000e+00</td>\n",
       "      <td>0.000000e+00</td>\n",
       "      <td>0.000000e+00</td>\n",
       "      <td>0.000000e+00</td>\n",
       "      <td>0.000000e+00</td>\n",
       "      <td>0.000000e+00</td>\n",
       "      <td>0.000000e+00</td>\n",
       "      <td>0.000000e+00</td>\n",
       "      <td>0.000000e+00</td>\n",
       "      <td>0.000000e+00</td>\n",
       "    </tr>\n",
       "    <tr>\n",
       "      <th>50%</th>\n",
       "      <td>9.319040e+05</td>\n",
       "      <td>0.000000e+00</td>\n",
       "      <td>1.000000e+00</td>\n",
       "      <td>1.0</td>\n",
       "      <td>2.800000e+01</td>\n",
       "      <td>0.000000e+00</td>\n",
       "      <td>1.018621e+05</td>\n",
       "      <td>0.000000e+00</td>\n",
       "      <td>0.000000e+00</td>\n",
       "      <td>1.000000e+00</td>\n",
       "      <td>...</td>\n",
       "      <td>0.000000e+00</td>\n",
       "      <td>0.000000e+00</td>\n",
       "      <td>0.000000e+00</td>\n",
       "      <td>0.000000e+00</td>\n",
       "      <td>0.000000e+00</td>\n",
       "      <td>0.000000e+00</td>\n",
       "      <td>0.000000e+00</td>\n",
       "      <td>0.000000e+00</td>\n",
       "      <td>0.000000e+00</td>\n",
       "      <td>0.000000e+00</td>\n",
       "    </tr>\n",
       "    <tr>\n",
       "      <th>75%</th>\n",
       "      <td>1.198993e+06</td>\n",
       "      <td>0.000000e+00</td>\n",
       "      <td>1.000000e+00</td>\n",
       "      <td>1.0</td>\n",
       "      <td>3.500000e+01</td>\n",
       "      <td>1.000000e+00</td>\n",
       "      <td>1.559863e+05</td>\n",
       "      <td>0.000000e+00</td>\n",
       "      <td>0.000000e+00</td>\n",
       "      <td>1.000000e+00</td>\n",
       "      <td>...</td>\n",
       "      <td>0.000000e+00</td>\n",
       "      <td>0.000000e+00</td>\n",
       "      <td>0.000000e+00</td>\n",
       "      <td>0.000000e+00</td>\n",
       "      <td>0.000000e+00</td>\n",
       "      <td>0.000000e+00</td>\n",
       "      <td>0.000000e+00</td>\n",
       "      <td>0.000000e+00</td>\n",
       "      <td>0.000000e+00</td>\n",
       "      <td>0.000000e+00</td>\n",
       "    </tr>\n",
       "    <tr>\n",
       "      <th>max</th>\n",
       "      <td>1.553686e+06</td>\n",
       "      <td>1.000000e+00</td>\n",
       "      <td>9.900000e+01</td>\n",
       "      <td>1.0</td>\n",
       "      <td>5.200000e+01</td>\n",
       "      <td>1.000000e+00</td>\n",
       "      <td>2.889440e+07</td>\n",
       "      <td>1.000000e+00</td>\n",
       "      <td>1.000000e+00</td>\n",
       "      <td>1.000000e+00</td>\n",
       "      <td>...</td>\n",
       "      <td>1.000000e+00</td>\n",
       "      <td>1.000000e+00</td>\n",
       "      <td>1.000000e+00</td>\n",
       "      <td>1.000000e+00</td>\n",
       "      <td>1.000000e+00</td>\n",
       "      <td>1.000000e+00</td>\n",
       "      <td>1.000000e+00</td>\n",
       "      <td>1.000000e+00</td>\n",
       "      <td>1.000000e+00</td>\n",
       "      <td>1.000000e+00</td>\n",
       "    </tr>\n",
       "  </tbody>\n",
       "</table>\n",
       "<p>8 rows × 31 columns</p>\n",
       "</div>"
      ],
      "text/plain": [
       "           ncodpers     ind_nuevo        indrel    tipodom      cod_prov  \\\n",
       "count  3.000000e+06  2.993857e+06  2.993857e+06  2993856.0  2.979294e+06   \n",
       "mean   8.348361e+05  5.962743e-02  1.176729e+00        1.0  2.658404e+01   \n",
       "std    4.315100e+05  2.367953e-01  4.157912e+00        0.0  1.277960e+01   \n",
       "min    1.588900e+04  0.000000e+00  1.000000e+00        1.0  1.000000e+00   \n",
       "25%    4.526070e+05  0.000000e+00  1.000000e+00        1.0  1.500000e+01   \n",
       "50%    9.319040e+05  0.000000e+00  1.000000e+00        1.0  2.800000e+01   \n",
       "75%    1.198993e+06  0.000000e+00  1.000000e+00        1.0  3.500000e+01   \n",
       "max    1.553686e+06  1.000000e+00  9.900000e+01        1.0  5.200000e+01   \n",
       "\n",
       "       ind_actividad_cliente         renta  ind_ahor_fin_ult1  \\\n",
       "count           2.993857e+06  2.385195e+06       3.000000e+06   \n",
       "mean            4.578552e-01  1.343037e+05       1.023333e-04   \n",
       "std             4.982207e-01  2.324808e+05       1.011548e-02   \n",
       "min             0.000000e+00  1.202730e+03       0.000000e+00   \n",
       "25%             0.000000e+00  6.873924e+04       0.000000e+00   \n",
       "50%             0.000000e+00  1.018621e+05       0.000000e+00   \n",
       "75%             1.000000e+00  1.559863e+05       0.000000e+00   \n",
       "max             1.000000e+00  2.889440e+07       1.000000e+00   \n",
       "\n",
       "       ind_aval_fin_ult1  ind_cco_fin_ult1  ...  ind_hip_fin_ult1  \\\n",
       "count       3.000000e+06      3.000000e+06  ...      3.000000e+06   \n",
       "mean        2.433333e-05      6.557817e-01  ...      5.897000e-03   \n",
       "std         4.932824e-03      4.751128e-01  ...      7.656518e-02   \n",
       "min         0.000000e+00      0.000000e+00  ...      0.000000e+00   \n",
       "25%         0.000000e+00      0.000000e+00  ...      0.000000e+00   \n",
       "50%         0.000000e+00      1.000000e+00  ...      0.000000e+00   \n",
       "75%         0.000000e+00      1.000000e+00  ...      0.000000e+00   \n",
       "max         1.000000e+00      1.000000e+00  ...      1.000000e+00   \n",
       "\n",
       "       ind_plan_fin_ult1  ind_pres_fin_ult1  ind_reca_fin_ult1  \\\n",
       "count       3.000000e+06       3.000000e+06       3.000000e+06   \n",
       "mean        9.093667e-03       2.617000e-03       5.254733e-02   \n",
       "std         9.492615e-02       5.108965e-02       2.231281e-01   \n",
       "min         0.000000e+00       0.000000e+00       0.000000e+00   \n",
       "25%         0.000000e+00       0.000000e+00       0.000000e+00   \n",
       "50%         0.000000e+00       0.000000e+00       0.000000e+00   \n",
       "75%         0.000000e+00       0.000000e+00       0.000000e+00   \n",
       "max         1.000000e+00       1.000000e+00       1.000000e+00   \n",
       "\n",
       "       ind_tjcr_fin_ult1  ind_valo_fin_ult1  ind_viv_fin_ult1  \\\n",
       "count       3.000000e+06       3.000000e+06      3.000000e+06   \n",
       "mean        4.430600e-02       2.563600e-02      3.865000e-03   \n",
       "std         2.057741e-01       1.580468e-01      6.204888e-02   \n",
       "min         0.000000e+00       0.000000e+00      0.000000e+00   \n",
       "25%         0.000000e+00       0.000000e+00      0.000000e+00   \n",
       "50%         0.000000e+00       0.000000e+00      0.000000e+00   \n",
       "75%         0.000000e+00       0.000000e+00      0.000000e+00   \n",
       "max         1.000000e+00       1.000000e+00      1.000000e+00   \n",
       "\n",
       "       ind_nomina_ult1  ind_nom_pens_ult1  ind_recibo_ult1  \n",
       "count     2.996498e+06       2.996498e+06     3.000000e+06  \n",
       "mean      5.471520e-02       5.939700e-02     1.275767e-01  \n",
       "std       2.274235e-01       2.363663e-01     3.336179e-01  \n",
       "min       0.000000e+00       0.000000e+00     0.000000e+00  \n",
       "25%       0.000000e+00       0.000000e+00     0.000000e+00  \n",
       "50%       0.000000e+00       0.000000e+00     0.000000e+00  \n",
       "75%       0.000000e+00       0.000000e+00     0.000000e+00  \n",
       "max       1.000000e+00       1.000000e+00     1.000000e+00  \n",
       "\n",
       "[8 rows x 31 columns]"
      ]
     },
     "execution_count": 4,
     "metadata": {},
     "output_type": "execute_result"
    }
   ],
   "source": [
    "df.describe()"
   ]
  },
  {
   "cell_type": "code",
   "execution_count": 5,
   "metadata": {},
   "outputs": [
    {
     "data": {
      "text/html": [
       "<div>\n",
       "<style scoped>\n",
       "    .dataframe tbody tr th:only-of-type {\n",
       "        vertical-align: middle;\n",
       "    }\n",
       "\n",
       "    .dataframe tbody tr th {\n",
       "        vertical-align: top;\n",
       "    }\n",
       "\n",
       "    .dataframe thead th {\n",
       "        text-align: right;\n",
       "    }\n",
       "</style>\n",
       "<table border=\"1\" class=\"dataframe\">\n",
       "  <thead>\n",
       "    <tr style=\"text-align: right;\">\n",
       "      <th></th>\n",
       "      <th>fecha_dato</th>\n",
       "      <th>ind_empleado</th>\n",
       "      <th>pais_residencia</th>\n",
       "      <th>sexo</th>\n",
       "      <th>age</th>\n",
       "      <th>fecha_alta</th>\n",
       "      <th>antiguedad</th>\n",
       "      <th>ult_fec_cli_1t</th>\n",
       "      <th>indrel_1mes</th>\n",
       "      <th>tiprel_1mes</th>\n",
       "      <th>indresi</th>\n",
       "      <th>indext</th>\n",
       "      <th>conyuemp</th>\n",
       "      <th>canal_entrada</th>\n",
       "      <th>indfall</th>\n",
       "      <th>nomprov</th>\n",
       "      <th>segmento</th>\n",
       "    </tr>\n",
       "  </thead>\n",
       "  <tbody>\n",
       "    <tr>\n",
       "      <th>count</th>\n",
       "      <td>3000000</td>\n",
       "      <td>2993857</td>\n",
       "      <td>2993857</td>\n",
       "      <td>2993841</td>\n",
       "      <td>3000000</td>\n",
       "      <td>2993857</td>\n",
       "      <td>3000000</td>\n",
       "      <td>5399</td>\n",
       "      <td>2966872</td>\n",
       "      <td>2966872</td>\n",
       "      <td>2993857</td>\n",
       "      <td>2993857</td>\n",
       "      <td>389</td>\n",
       "      <td>2958763</td>\n",
       "      <td>2993857</td>\n",
       "      <td>2979294</td>\n",
       "      <td>2958048</td>\n",
       "    </tr>\n",
       "    <tr>\n",
       "      <th>unique</th>\n",
       "      <td>17</td>\n",
       "      <td>5</td>\n",
       "      <td>117</td>\n",
       "      <td>2</td>\n",
       "      <td>121</td>\n",
       "      <td>6749</td>\n",
       "      <td>259</td>\n",
       "      <td>223</td>\n",
       "      <td>13</td>\n",
       "      <td>4</td>\n",
       "      <td>2</td>\n",
       "      <td>2</td>\n",
       "      <td>2</td>\n",
       "      <td>161</td>\n",
       "      <td>2</td>\n",
       "      <td>52</td>\n",
       "      <td>3</td>\n",
       "    </tr>\n",
       "    <tr>\n",
       "      <th>top</th>\n",
       "      <td>2016-05-28</td>\n",
       "      <td>N</td>\n",
       "      <td>ES</td>\n",
       "      <td>V</td>\n",
       "      <td>23</td>\n",
       "      <td>2014-07-28</td>\n",
       "      <td>12</td>\n",
       "      <td>2015-12-24</td>\n",
       "      <td>1.0</td>\n",
       "      <td>I</td>\n",
       "      <td>S</td>\n",
       "      <td>N</td>\n",
       "      <td>N</td>\n",
       "      <td>KHE</td>\n",
       "      <td>N</td>\n",
       "      <td>MADRID</td>\n",
       "      <td>02 - PARTICULARES</td>\n",
       "    </tr>\n",
       "    <tr>\n",
       "      <th>freq</th>\n",
       "      <td>204973</td>\n",
       "      <td>2991935</td>\n",
       "      <td>2979299</td>\n",
       "      <td>1631631</td>\n",
       "      <td>172262</td>\n",
       "      <td>12505</td>\n",
       "      <td>53150</td>\n",
       "      <td>177</td>\n",
       "      <td>1304480</td>\n",
       "      <td>1604745</td>\n",
       "      <td>2979299</td>\n",
       "      <td>2852217</td>\n",
       "      <td>383</td>\n",
       "      <td>891146</td>\n",
       "      <td>2986117</td>\n",
       "      <td>970365</td>\n",
       "      <td>1748770</td>\n",
       "    </tr>\n",
       "  </tbody>\n",
       "</table>\n",
       "</div>"
      ],
      "text/plain": [
       "        fecha_dato ind_empleado pais_residencia     sexo      age  fecha_alta  \\\n",
       "count      3000000      2993857         2993857  2993841  3000000     2993857   \n",
       "unique          17            5             117        2      121        6749   \n",
       "top     2016-05-28            N              ES        V       23  2014-07-28   \n",
       "freq        204973      2991935         2979299  1631631   172262       12505   \n",
       "\n",
       "       antiguedad ult_fec_cli_1t indrel_1mes tiprel_1mes  indresi   indext  \\\n",
       "count     3000000           5399     2966872     2966872  2993857  2993857   \n",
       "unique        259            223          13           4        2        2   \n",
       "top            12     2015-12-24         1.0           I        S        N   \n",
       "freq        53150            177     1304480     1604745  2979299  2852217   \n",
       "\n",
       "       conyuemp canal_entrada  indfall  nomprov           segmento  \n",
       "count       389       2958763  2993857  2979294            2958048  \n",
       "unique        2           161        2       52                  3  \n",
       "top           N           KHE        N   MADRID  02 - PARTICULARES  \n",
       "freq        383        891146  2986117   970365            1748770  "
      ]
     },
     "execution_count": 5,
     "metadata": {},
     "output_type": "execute_result"
    }
   ],
   "source": [
    "df.describe(include = ['object'])"
   ]
  },
  {
   "cell_type": "code",
   "execution_count": 6,
   "metadata": {},
   "outputs": [],
   "source": [
    "#cleaning Data"
   ]
  },
  {
   "cell_type": "markdown",
   "metadata": {},
   "source": [
    "age is object so we change it to numeric\n"
   ]
  },
  {
   "cell_type": "code",
   "execution_count": null,
   "metadata": {},
   "outputs": [],
   "source": []
  },
  {
   "cell_type": "code",
   "execution_count": null,
   "metadata": {},
   "outputs": [],
   "source": []
  },
  {
   "cell_type": "code",
   "execution_count": 7,
   "metadata": {},
   "outputs": [],
   "source": [
    "#change datatype of age from object to numeric\n",
    "df['age'] = pd.to_numeric(df['age'],errors='coerce')"
   ]
  },
  {
   "cell_type": "markdown",
   "metadata": {},
   "source": [
    "Dealing with null rows, we are going to focus only on the columns we have interest in and drop all other columns."
   ]
  },
  {
   "cell_type": "code",
   "execution_count": 8,
   "metadata": {},
   "outputs": [
    {
     "data": {
      "text/plain": [
       "MADRID                    970365\n",
       "BARCELONA                 278919\n",
       "VALENCIA                  149561\n",
       "SEVILLA                   133537\n",
       "CORUÑA, A                  94179\n",
       "MURCIA                     86630\n",
       "MALAGA                     80671\n",
       "ZARAGOZA                   75560\n",
       "ALICANTE                   69050\n",
       "CADIZ                      65116\n",
       "PONTEVEDRA                 61524\n",
       "ASTURIAS                   58439\n",
       "VALLADOLID                 52338\n",
       "PALMAS, LAS                51988\n",
       "BADAJOZ                    42558\n",
       "BIZKAIA                    40841\n",
       "TOLEDO                     40424\n",
       "GRANADA                    39115\n",
       "SALAMANCA                  36071\n",
       "CANTABRIA                  34420\n",
       "CORDOBA                    31752\n",
       "CACERES                    28479\n",
       "BALEARS, ILLES             27492\n",
       "HUELVA                     26951\n",
       "CIUDAD REAL                26279\n",
       "ALBACETE                   24904\n",
       "CASTELLON                  22776\n",
       "TARRAGONA                  21945\n",
       "BURGOS                     21520\n",
       "GIRONA                     19858\n",
       "NAVARRA                    19650\n",
       "LUGO                       18854\n",
       "RIOJA, LA                  18770\n",
       "OURENSE                    18598\n",
       "LEON                       18288\n",
       "LERIDA                     17375\n",
       "SANTA CRUZ DE TENERIFE     15639\n",
       "GIPUZKOA                   15596\n",
       "GUADALAJARA                14319\n",
       "JAEN                       14001\n",
       "ALMERIA                    13163\n",
       "CUENCA                     12687\n",
       "ZAMORA                     11281\n",
       "PALENCIA                   10643\n",
       "SEGOVIA                     9198\n",
       "HUESCA                      8796\n",
       "AVILA                       8592\n",
       "ALAVA                       8111\n",
       "TERUEL                      4876\n",
       "SORIA                       3883\n",
       "MELILLA                     2078\n",
       "CEUTA                       1634\n",
       "Name: nomprov, dtype: int64"
      ]
     },
     "execution_count": 8,
     "metadata": {},
     "output_type": "execute_result"
    }
   ],
   "source": [
    "df.nomprov.value_counts()"
   ]
  },
  {
   "cell_type": "markdown",
   "metadata": {},
   "source": [
    "let fill all the rows with nan in this column with the common city Madrid"
   ]
  },
  {
   "cell_type": "code",
   "execution_count": 9,
   "metadata": {},
   "outputs": [],
   "source": [
    "df.nomprov = df.nomprov.fillna(\"MADRID\")"
   ]
  },
  {
   "cell_type": "code",
   "execution_count": 10,
   "metadata": {},
   "outputs": [
    {
     "data": {
      "text/plain": [
       "451931.22    1245\n",
       "463625.16     383\n",
       "128318.52     342\n",
       "181042.20     338\n",
       "488798.49     286\n",
       "             ... \n",
       "37127.40        1\n",
       "100967.34       1\n",
       "85820.58        1\n",
       "142574.61       1\n",
       "245315.46       1\n",
       "Name: renta, Length: 508258, dtype: int64"
      ]
     },
     "execution_count": 10,
     "metadata": {},
     "output_type": "execute_result"
    }
   ],
   "source": [
    "df.renta.value_counts()"
   ]
  },
  {
   "cell_type": "code",
   "execution_count": 11,
   "metadata": {},
   "outputs": [
    {
     "data": {
      "text/html": [
       "<div>\n",
       "<style scoped>\n",
       "    .dataframe tbody tr th:only-of-type {\n",
       "        vertical-align: middle;\n",
       "    }\n",
       "\n",
       "    .dataframe tbody tr th {\n",
       "        vertical-align: top;\n",
       "    }\n",
       "\n",
       "    .dataframe thead th {\n",
       "        text-align: right;\n",
       "    }\n",
       "</style>\n",
       "<table border=\"1\" class=\"dataframe\">\n",
       "  <thead>\n",
       "    <tr style=\"text-align: right;\">\n",
       "      <th></th>\n",
       "      <th>mean</th>\n",
       "      <th>median</th>\n",
       "      <th>amin</th>\n",
       "      <th>amax</th>\n",
       "    </tr>\n",
       "    <tr>\n",
       "      <th>nomprov</th>\n",
       "      <th></th>\n",
       "      <th></th>\n",
       "      <th></th>\n",
       "      <th></th>\n",
       "    </tr>\n",
       "  </thead>\n",
       "  <tbody>\n",
       "    <tr>\n",
       "      <th>ALAVA</th>\n",
       "      <td>131366.167500</td>\n",
       "      <td>130487.385</td>\n",
       "      <td>55271.07</td>\n",
       "      <td>253563.27</td>\n",
       "    </tr>\n",
       "    <tr>\n",
       "      <th>ALBACETE</th>\n",
       "      <td>83076.038705</td>\n",
       "      <td>78957.180</td>\n",
       "      <td>9180.00</td>\n",
       "      <td>764581.71</td>\n",
       "    </tr>\n",
       "    <tr>\n",
       "      <th>ALICANTE</th>\n",
       "      <td>88359.672500</td>\n",
       "      <td>67840.860</td>\n",
       "      <td>7791.09</td>\n",
       "      <td>17804048.10</td>\n",
       "    </tr>\n",
       "    <tr>\n",
       "      <th>ALMERIA</th>\n",
       "      <td>85590.372707</td>\n",
       "      <td>73567.860</td>\n",
       "      <td>8290.86</td>\n",
       "      <td>578348.88</td>\n",
       "    </tr>\n",
       "    <tr>\n",
       "      <th>ASTURIAS</th>\n",
       "      <td>101612.144021</td>\n",
       "      <td>87195.120</td>\n",
       "      <td>7618.77</td>\n",
       "      <td>4950059.34</td>\n",
       "    </tr>\n",
       "    <tr>\n",
       "      <th>AVILA</th>\n",
       "      <td>76196.027063</td>\n",
       "      <td>68561.610</td>\n",
       "      <td>10443.60</td>\n",
       "      <td>2768592.57</td>\n",
       "    </tr>\n",
       "    <tr>\n",
       "      <th>BADAJOZ</th>\n",
       "      <td>72226.781140</td>\n",
       "      <td>62370.630</td>\n",
       "      <td>7143.54</td>\n",
       "      <td>1103543.19</td>\n",
       "    </tr>\n",
       "    <tr>\n",
       "      <th>BALEARS, ILLES</th>\n",
       "      <td>168998.381951</td>\n",
       "      <td>123780.915</td>\n",
       "      <td>6698.37</td>\n",
       "      <td>15711716.46</td>\n",
       "    </tr>\n",
       "    <tr>\n",
       "      <th>BARCELONA</th>\n",
       "      <td>164544.229262</td>\n",
       "      <td>131314.890</td>\n",
       "      <td>1471.23</td>\n",
       "      <td>5752268.34</td>\n",
       "    </tr>\n",
       "    <tr>\n",
       "      <th>BIZKAIA</th>\n",
       "      <td>128984.716667</td>\n",
       "      <td>119315.310</td>\n",
       "      <td>39975.96</td>\n",
       "      <td>314612.49</td>\n",
       "    </tr>\n",
       "    <tr>\n",
       "      <th>BURGOS</th>\n",
       "      <td>97014.918440</td>\n",
       "      <td>88972.830</td>\n",
       "      <td>9040.11</td>\n",
       "      <td>1785511.98</td>\n",
       "    </tr>\n",
       "    <tr>\n",
       "      <th>CACERES</th>\n",
       "      <td>75346.946699</td>\n",
       "      <td>67700.970</td>\n",
       "      <td>5130.00</td>\n",
       "      <td>1309034.61</td>\n",
       "    </tr>\n",
       "    <tr>\n",
       "      <th>CADIZ</th>\n",
       "      <td>98056.619308</td>\n",
       "      <td>79071.330</td>\n",
       "      <td>4559.55</td>\n",
       "      <td>3648374.43</td>\n",
       "    </tr>\n",
       "    <tr>\n",
       "      <th>CANTABRIA</th>\n",
       "      <td>120678.924029</td>\n",
       "      <td>94610.310</td>\n",
       "      <td>10913.46</td>\n",
       "      <td>2276562.36</td>\n",
       "    </tr>\n",
       "    <tr>\n",
       "      <th>CASTELLON</th>\n",
       "      <td>80085.700010</td>\n",
       "      <td>66710.820</td>\n",
       "      <td>6273.06</td>\n",
       "      <td>668526.69</td>\n",
       "    </tr>\n",
       "    <tr>\n",
       "      <th>CEUTA</th>\n",
       "      <td>191777.993690</td>\n",
       "      <td>130464.540</td>\n",
       "      <td>33429.72</td>\n",
       "      <td>4082464.26</td>\n",
       "    </tr>\n",
       "    <tr>\n",
       "      <th>CIUDAD REAL</th>\n",
       "      <td>69230.529241</td>\n",
       "      <td>61950.540</td>\n",
       "      <td>3731.79</td>\n",
       "      <td>952513.17</td>\n",
       "    </tr>\n",
       "    <tr>\n",
       "      <th>CORDOBA</th>\n",
       "      <td>85508.362281</td>\n",
       "      <td>69282.660</td>\n",
       "      <td>7507.32</td>\n",
       "      <td>1496215.68</td>\n",
       "    </tr>\n",
       "    <tr>\n",
       "      <th>CORUÑA, A</th>\n",
       "      <td>112636.185493</td>\n",
       "      <td>97650.450</td>\n",
       "      <td>2336.01</td>\n",
       "      <td>2086441.41</td>\n",
       "    </tr>\n",
       "    <tr>\n",
       "      <th>CUENCA</th>\n",
       "      <td>69878.554725</td>\n",
       "      <td>67109.340</td>\n",
       "      <td>8633.37</td>\n",
       "      <td>408454.41</td>\n",
       "    </tr>\n",
       "    <tr>\n",
       "      <th>GIPUZKOA</th>\n",
       "      <td>82426.056429</td>\n",
       "      <td>60598.050</td>\n",
       "      <td>17685.90</td>\n",
       "      <td>313385.07</td>\n",
       "    </tr>\n",
       "    <tr>\n",
       "      <th>GIRONA</th>\n",
       "      <td>142270.582436</td>\n",
       "      <td>107661.060</td>\n",
       "      <td>18544.92</td>\n",
       "      <td>6209401.14</td>\n",
       "    </tr>\n",
       "    <tr>\n",
       "      <th>GRANADA</th>\n",
       "      <td>96306.568227</td>\n",
       "      <td>82523.100</td>\n",
       "      <td>7552.86</td>\n",
       "      <td>4750243.23</td>\n",
       "    </tr>\n",
       "    <tr>\n",
       "      <th>GUADALAJARA</th>\n",
       "      <td>95702.409093</td>\n",
       "      <td>93183.720</td>\n",
       "      <td>9452.97</td>\n",
       "      <td>780996.48</td>\n",
       "    </tr>\n",
       "    <tr>\n",
       "      <th>HUELVA</th>\n",
       "      <td>76970.131339</td>\n",
       "      <td>69169.050</td>\n",
       "      <td>7348.44</td>\n",
       "      <td>1998667.02</td>\n",
       "    </tr>\n",
       "    <tr>\n",
       "      <th>HUESCA</th>\n",
       "      <td>89567.324390</td>\n",
       "      <td>74086.530</td>\n",
       "      <td>13373.10</td>\n",
       "      <td>1137835.20</td>\n",
       "    </tr>\n",
       "    <tr>\n",
       "      <th>JAEN</th>\n",
       "      <td>77478.809437</td>\n",
       "      <td>67507.920</td>\n",
       "      <td>7425.00</td>\n",
       "      <td>553668.09</td>\n",
       "    </tr>\n",
       "    <tr>\n",
       "      <th>LEON</th>\n",
       "      <td>93838.815453</td>\n",
       "      <td>81197.520</td>\n",
       "      <td>7816.92</td>\n",
       "      <td>1985134.41</td>\n",
       "    </tr>\n",
       "    <tr>\n",
       "      <th>LERIDA</th>\n",
       "      <td>81407.654207</td>\n",
       "      <td>64797.420</td>\n",
       "      <td>9482.13</td>\n",
       "      <td>3587377.95</td>\n",
       "    </tr>\n",
       "    <tr>\n",
       "      <th>LUGO</th>\n",
       "      <td>76899.072747</td>\n",
       "      <td>64381.230</td>\n",
       "      <td>7445.64</td>\n",
       "      <td>1126463.76</td>\n",
       "    </tr>\n",
       "    <tr>\n",
       "      <th>MADRID</th>\n",
       "      <td>179149.966321</td>\n",
       "      <td>139267.500</td>\n",
       "      <td>3796.86</td>\n",
       "      <td>28894395.51</td>\n",
       "    </tr>\n",
       "    <tr>\n",
       "      <th>MALAGA</th>\n",
       "      <td>120548.429288</td>\n",
       "      <td>94823.790</td>\n",
       "      <td>10983.54</td>\n",
       "      <td>13268621.28</td>\n",
       "    </tr>\n",
       "    <tr>\n",
       "      <th>MELILLA</th>\n",
       "      <td>149252.139627</td>\n",
       "      <td>117515.400</td>\n",
       "      <td>32198.82</td>\n",
       "      <td>1959778.56</td>\n",
       "    </tr>\n",
       "    <tr>\n",
       "      <th>MURCIA</th>\n",
       "      <td>78857.055008</td>\n",
       "      <td>67543.485</td>\n",
       "      <td>7716.75</td>\n",
       "      <td>3587377.95</td>\n",
       "    </tr>\n",
       "    <tr>\n",
       "      <th>NAVARRA</th>\n",
       "      <td>99140.573437</td>\n",
       "      <td>81614.100</td>\n",
       "      <td>47119.77</td>\n",
       "      <td>386063.22</td>\n",
       "    </tr>\n",
       "    <tr>\n",
       "      <th>OURENSE</th>\n",
       "      <td>83564.397827</td>\n",
       "      <td>79382.295</td>\n",
       "      <td>5437.62</td>\n",
       "      <td>686177.70</td>\n",
       "    </tr>\n",
       "    <tr>\n",
       "      <th>PALENCIA</th>\n",
       "      <td>93522.238322</td>\n",
       "      <td>86693.040</td>\n",
       "      <td>12699.69</td>\n",
       "      <td>833481.30</td>\n",
       "    </tr>\n",
       "    <tr>\n",
       "      <th>PALMAS, LAS</th>\n",
       "      <td>100906.792509</td>\n",
       "      <td>81068.400</td>\n",
       "      <td>7965.00</td>\n",
       "      <td>15957371.64</td>\n",
       "    </tr>\n",
       "    <tr>\n",
       "      <th>PONTEVEDRA</th>\n",
       "      <td>113849.210920</td>\n",
       "      <td>97640.880</td>\n",
       "      <td>9450.00</td>\n",
       "      <td>2570185.35</td>\n",
       "    </tr>\n",
       "    <tr>\n",
       "      <th>RIOJA, LA</th>\n",
       "      <td>99511.259675</td>\n",
       "      <td>89514.150</td>\n",
       "      <td>8917.14</td>\n",
       "      <td>473760.06</td>\n",
       "    </tr>\n",
       "    <tr>\n",
       "      <th>SALAMANCA</th>\n",
       "      <td>106029.455913</td>\n",
       "      <td>89788.320</td>\n",
       "      <td>6313.20</td>\n",
       "      <td>5431377.63</td>\n",
       "    </tr>\n",
       "    <tr>\n",
       "      <th>SANTA CRUZ DE TENERIFE</th>\n",
       "      <td>103639.660896</td>\n",
       "      <td>83167.650</td>\n",
       "      <td>12580.71</td>\n",
       "      <td>3080265.81</td>\n",
       "    </tr>\n",
       "    <tr>\n",
       "      <th>SEGOVIA</th>\n",
       "      <td>98641.664717</td>\n",
       "      <td>89531.055</td>\n",
       "      <td>10462.50</td>\n",
       "      <td>850009.77</td>\n",
       "    </tr>\n",
       "    <tr>\n",
       "      <th>SEVILLA</th>\n",
       "      <td>117506.531353</td>\n",
       "      <td>92750.460</td>\n",
       "      <td>5925.54</td>\n",
       "      <td>11341152.48</td>\n",
       "    </tr>\n",
       "    <tr>\n",
       "      <th>SORIA</th>\n",
       "      <td>88411.462834</td>\n",
       "      <td>78655.110</td>\n",
       "      <td>13167.00</td>\n",
       "      <td>423131.94</td>\n",
       "    </tr>\n",
       "    <tr>\n",
       "      <th>TARRAGONA</th>\n",
       "      <td>103473.552281</td>\n",
       "      <td>87984.600</td>\n",
       "      <td>9938.79</td>\n",
       "      <td>2563287.60</td>\n",
       "    </tr>\n",
       "    <tr>\n",
       "      <th>TERUEL</th>\n",
       "      <td>87449.665650</td>\n",
       "      <td>75981.600</td>\n",
       "      <td>6360.00</td>\n",
       "      <td>933319.86</td>\n",
       "    </tr>\n",
       "    <tr>\n",
       "      <th>TOLEDO</th>\n",
       "      <td>80130.502804</td>\n",
       "      <td>68770.410</td>\n",
       "      <td>1202.73</td>\n",
       "      <td>3988595.10</td>\n",
       "    </tr>\n",
       "    <tr>\n",
       "      <th>VALENCIA</th>\n",
       "      <td>89833.139261</td>\n",
       "      <td>73204.710</td>\n",
       "      <td>7074.66</td>\n",
       "      <td>25547251.92</td>\n",
       "    </tr>\n",
       "    <tr>\n",
       "      <th>VALLADOLID</th>\n",
       "      <td>101732.431016</td>\n",
       "      <td>93148.080</td>\n",
       "      <td>2539.80</td>\n",
       "      <td>1191358.77</td>\n",
       "    </tr>\n",
       "    <tr>\n",
       "      <th>ZAMORA</th>\n",
       "      <td>83441.390527</td>\n",
       "      <td>74495.430</td>\n",
       "      <td>7776.00</td>\n",
       "      <td>1536264.84</td>\n",
       "    </tr>\n",
       "    <tr>\n",
       "      <th>ZARAGOZA</th>\n",
       "      <td>111001.060469</td>\n",
       "      <td>100054.260</td>\n",
       "      <td>5651.55</td>\n",
       "      <td>8516912.52</td>\n",
       "    </tr>\n",
       "  </tbody>\n",
       "</table>\n",
       "</div>"
      ],
      "text/plain": [
       "                                 mean      median      amin         amax\n",
       "nomprov                                                                 \n",
       "ALAVA                   131366.167500  130487.385  55271.07    253563.27\n",
       "ALBACETE                 83076.038705   78957.180   9180.00    764581.71\n",
       "ALICANTE                 88359.672500   67840.860   7791.09  17804048.10\n",
       "ALMERIA                  85590.372707   73567.860   8290.86    578348.88\n",
       "ASTURIAS                101612.144021   87195.120   7618.77   4950059.34\n",
       "AVILA                    76196.027063   68561.610  10443.60   2768592.57\n",
       "BADAJOZ                  72226.781140   62370.630   7143.54   1103543.19\n",
       "BALEARS, ILLES          168998.381951  123780.915   6698.37  15711716.46\n",
       "BARCELONA               164544.229262  131314.890   1471.23   5752268.34\n",
       "BIZKAIA                 128984.716667  119315.310  39975.96    314612.49\n",
       "BURGOS                   97014.918440   88972.830   9040.11   1785511.98\n",
       "CACERES                  75346.946699   67700.970   5130.00   1309034.61\n",
       "CADIZ                    98056.619308   79071.330   4559.55   3648374.43\n",
       "CANTABRIA               120678.924029   94610.310  10913.46   2276562.36\n",
       "CASTELLON                80085.700010   66710.820   6273.06    668526.69\n",
       "CEUTA                   191777.993690  130464.540  33429.72   4082464.26\n",
       "CIUDAD REAL              69230.529241   61950.540   3731.79    952513.17\n",
       "CORDOBA                  85508.362281   69282.660   7507.32   1496215.68\n",
       "CORUÑA, A               112636.185493   97650.450   2336.01   2086441.41\n",
       "CUENCA                   69878.554725   67109.340   8633.37    408454.41\n",
       "GIPUZKOA                 82426.056429   60598.050  17685.90    313385.07\n",
       "GIRONA                  142270.582436  107661.060  18544.92   6209401.14\n",
       "GRANADA                  96306.568227   82523.100   7552.86   4750243.23\n",
       "GUADALAJARA              95702.409093   93183.720   9452.97    780996.48\n",
       "HUELVA                   76970.131339   69169.050   7348.44   1998667.02\n",
       "HUESCA                   89567.324390   74086.530  13373.10   1137835.20\n",
       "JAEN                     77478.809437   67507.920   7425.00    553668.09\n",
       "LEON                     93838.815453   81197.520   7816.92   1985134.41\n",
       "LERIDA                   81407.654207   64797.420   9482.13   3587377.95\n",
       "LUGO                     76899.072747   64381.230   7445.64   1126463.76\n",
       "MADRID                  179149.966321  139267.500   3796.86  28894395.51\n",
       "MALAGA                  120548.429288   94823.790  10983.54  13268621.28\n",
       "MELILLA                 149252.139627  117515.400  32198.82   1959778.56\n",
       "MURCIA                   78857.055008   67543.485   7716.75   3587377.95\n",
       "NAVARRA                  99140.573437   81614.100  47119.77    386063.22\n",
       "OURENSE                  83564.397827   79382.295   5437.62    686177.70\n",
       "PALENCIA                 93522.238322   86693.040  12699.69    833481.30\n",
       "PALMAS, LAS             100906.792509   81068.400   7965.00  15957371.64\n",
       "PONTEVEDRA              113849.210920   97640.880   9450.00   2570185.35\n",
       "RIOJA, LA                99511.259675   89514.150   8917.14    473760.06\n",
       "SALAMANCA               106029.455913   89788.320   6313.20   5431377.63\n",
       "SANTA CRUZ DE TENERIFE  103639.660896   83167.650  12580.71   3080265.81\n",
       "SEGOVIA                  98641.664717   89531.055  10462.50    850009.77\n",
       "SEVILLA                 117506.531353   92750.460   5925.54  11341152.48\n",
       "SORIA                    88411.462834   78655.110  13167.00    423131.94\n",
       "TARRAGONA               103473.552281   87984.600   9938.79   2563287.60\n",
       "TERUEL                   87449.665650   75981.600   6360.00    933319.86\n",
       "TOLEDO                   80130.502804   68770.410   1202.73   3988595.10\n",
       "VALENCIA                 89833.139261   73204.710   7074.66  25547251.92\n",
       "VALLADOLID              101732.431016   93148.080   2539.80   1191358.77\n",
       "ZAMORA                   83441.390527   74495.430   7776.00   1536264.84\n",
       "ZARAGOZA                111001.060469  100054.260   5651.55   8516912.52"
      ]
     },
     "execution_count": 11,
     "metadata": {},
     "output_type": "execute_result"
    }
   ],
   "source": [
    "df.groupby('nomprov')['renta'].aggregate([np.mean, np.median, np.min,np.max])"
   ]
  },
  {
   "cell_type": "markdown",
   "metadata": {},
   "source": [
    "we can fill in the null values with the median renta for each province."
   ]
  },
  {
   "cell_type": "code",
   "execution_count": 12,
   "metadata": {},
   "outputs": [],
   "source": [
    "df.loc[df.renta.isnull(), \"renta\"] = df.groupby('nomprov').renta.transform('median')"
   ]
  },
  {
   "cell_type": "code",
   "execution_count": 13,
   "metadata": {},
   "outputs": [
    {
     "data": {
      "text/html": [
       "<div>\n",
       "<style scoped>\n",
       "    .dataframe tbody tr th:only-of-type {\n",
       "        vertical-align: middle;\n",
       "    }\n",
       "\n",
       "    .dataframe tbody tr th {\n",
       "        vertical-align: top;\n",
       "    }\n",
       "\n",
       "    .dataframe thead th {\n",
       "        text-align: right;\n",
       "    }\n",
       "</style>\n",
       "<table border=\"1\" class=\"dataframe\">\n",
       "  <thead>\n",
       "    <tr style=\"text-align: right;\">\n",
       "      <th></th>\n",
       "      <th>mean</th>\n",
       "      <th>median</th>\n",
       "    </tr>\n",
       "    <tr>\n",
       "      <th>segmento</th>\n",
       "      <th></th>\n",
       "      <th></th>\n",
       "    </tr>\n",
       "  </thead>\n",
       "  <tbody>\n",
       "    <tr>\n",
       "      <th>01 - TOP</th>\n",
       "      <td>166428.716619</td>\n",
       "      <td>136994.85</td>\n",
       "    </tr>\n",
       "    <tr>\n",
       "      <th>02 - PARTICULARES</th>\n",
       "      <td>135001.048463</td>\n",
       "      <td>107093.67</td>\n",
       "    </tr>\n",
       "    <tr>\n",
       "      <th>03 - UNIVERSITARIO</th>\n",
       "      <td>111241.080683</td>\n",
       "      <td>88972.83</td>\n",
       "    </tr>\n",
       "  </tbody>\n",
       "</table>\n",
       "</div>"
      ],
      "text/plain": [
       "                             mean     median\n",
       "segmento                                    \n",
       "01 - TOP            166428.716619  136994.85\n",
       "02 - PARTICULARES   135001.048463  107093.67\n",
       "03 - UNIVERSITARIO  111241.080683   88972.83"
      ]
     },
     "execution_count": 13,
     "metadata": {},
     "output_type": "execute_result"
    }
   ],
   "source": [
    "df.groupby('segmento')['renta'].aggregate([np.mean, np.median])"
   ]
  },
  {
   "cell_type": "markdown",
   "metadata": {},
   "source": [
    "we use this aggregation to fill nan rows in the segmento column"
   ]
  },
  {
   "cell_type": "code",
   "execution_count": 14,
   "metadata": {},
   "outputs": [],
   "source": [
    "df.segmento = df[df.renta <= 96000].segmento.fillna(\"03 - UNIVERSITARIO\")\n",
    "df.segmento = df[df.renta <= 119500].segmento.fillna(\"02 - PARTICULARES\")\n",
    "df.segmento = df.segmento.fillna(\"01 - TOP\")"
   ]
  },
  {
   "cell_type": "code",
   "execution_count": 15,
   "metadata": {},
   "outputs": [
    {
     "data": {
      "text/plain": [
       "V    1631631\n",
       "H    1362210\n",
       "Name: sexo, dtype: int64"
      ]
     },
     "execution_count": 15,
     "metadata": {},
     "output_type": "execute_result"
    }
   ],
   "source": [
    "df.sexo.value_counts()"
   ]
  },
  {
   "cell_type": "markdown",
   "metadata": {},
   "source": [
    "we fill null with the most common values, in this case V(female)"
   ]
  },
  {
   "cell_type": "code",
   "execution_count": 16,
   "metadata": {},
   "outputs": [],
   "source": [
    "df.sexo = df.sexo.fillna(\"V\")"
   ]
  },
  {
   "cell_type": "code",
   "execution_count": null,
   "metadata": {},
   "outputs": [],
   "source": []
  },
  {
   "cell_type": "markdown",
   "metadata": {},
   "source": [
    "Drop columns which will not be use in the analysis"
   ]
  },
  {
   "cell_type": "code",
   "execution_count": 17,
   "metadata": {},
   "outputs": [],
   "source": [
    "df1 = df.drop(['ind_aval_fin_ult1','ind_cder_fin_ult1','ind_cder_fin_ult1','ind_cno_fin_ult1','ind_ctju_fin_ult1','ind_ctma_fin_ult1',\n",
    "                   'ind_ctop_fin_ult1','ind_ctpp_fin_ult1','ind_deco_fin_ult1','ind_deme_fin_ult1','ind_dela_fin_ult1','ind_fond_fin_ult1',\n",
    "                   'ind_pres_fin_ult1','ind_reca_fin_ult1','ind_tjcr_fin_ult1','ind_valo_fin_ult1','ind_viv_fin_ult1','ind_nomina_ult1',\n",
    "                   'ind_nom_pens_ult1','ind_recibo_ult1','fecha_dato','ind_empleado','pais_residencia','fecha_alta','ind_nuevo'],axis= 1,)"
   ]
  },
  {
   "cell_type": "code",
   "execution_count": null,
   "metadata": {},
   "outputs": [],
   "source": []
  },
  {
   "cell_type": "code",
   "execution_count": 18,
   "metadata": {},
   "outputs": [
    {
     "name": "stdout",
     "output_type": "stream",
     "text": [
      "<class 'pandas.core.frame.DataFrame'>\n",
      "RangeIndex: 3000000 entries, 0 to 2999999\n",
      "Data columns (total 24 columns):\n",
      " #   Column                 Dtype  \n",
      "---  ------                 -----  \n",
      " 0   ncodpers               int64  \n",
      " 1   sexo                   object \n",
      " 2   age                    float64\n",
      " 3   antiguedad             object \n",
      " 4   indrel                 float64\n",
      " 5   ult_fec_cli_1t         object \n",
      " 6   indrel_1mes            object \n",
      " 7   tiprel_1mes            object \n",
      " 8   indresi                object \n",
      " 9   indext                 object \n",
      " 10  conyuemp               object \n",
      " 11  canal_entrada          object \n",
      " 12  indfall                object \n",
      " 13  tipodom                float64\n",
      " 14  cod_prov               float64\n",
      " 15  nomprov                object \n",
      " 16  ind_actividad_cliente  float64\n",
      " 17  renta                  float64\n",
      " 18  segmento               object \n",
      " 19  ind_ahor_fin_ult1      int64  \n",
      " 20  ind_cco_fin_ult1       int64  \n",
      " 21  ind_ecue_fin_ult1      int64  \n",
      " 22  ind_hip_fin_ult1       int64  \n",
      " 23  ind_plan_fin_ult1      int64  \n",
      "dtypes: float64(6), int64(6), object(12)\n",
      "memory usage: 549.3+ MB\n"
     ]
    }
   ],
   "source": [
    "df1.info()"
   ]
  },
  {
   "cell_type": "code",
   "execution_count": 19,
   "metadata": {},
   "outputs": [],
   "source": [
    "df1.drop(['antiguedad','indrel','ult_fec_cli_1t','indrel_1mes','tiprel_1mes','indresi','indext','conyuemp','canal_entrada',\n",
    "          'indfall','tipodom','cod_prov','ind_actividad_cliente'],axis = 1, inplace = True)"
   ]
  },
  {
   "cell_type": "code",
   "execution_count": 20,
   "metadata": {},
   "outputs": [
    {
     "data": {
      "text/plain": [
       "Index(['ncodpers', 'sexo', 'age', 'nomprov', 'renta', 'segmento',\n",
       "       'ind_ahor_fin_ult1', 'ind_cco_fin_ult1', 'ind_ecue_fin_ult1',\n",
       "       'ind_hip_fin_ult1', 'ind_plan_fin_ult1'],\n",
       "      dtype='object')"
      ]
     },
     "execution_count": 20,
     "metadata": {},
     "output_type": "execute_result"
    }
   ],
   "source": [
    "df1.columns"
   ]
  },
  {
   "cell_type": "code",
   "execution_count": 21,
   "metadata": {},
   "outputs": [],
   "source": [
    "df1.columns = ['ncodpers','sexo','age', 'nomprov','renta','segmento','saving_acc','current_acc','e-account','mortgage','pension_plan']\n"
   ]
  },
  {
   "cell_type": "code",
   "execution_count": 22,
   "metadata": {},
   "outputs": [
    {
     "data": {
      "text/plain": [
       "ncodpers           0\n",
       "sexo               0\n",
       "age             6143\n",
       "nomprov            0\n",
       "renta              0\n",
       "segmento           0\n",
       "saving_acc         0\n",
       "current_acc        0\n",
       "e-account          0\n",
       "mortgage           0\n",
       "pension_plan       0\n",
       "dtype: int64"
      ]
     },
     "execution_count": 22,
     "metadata": {},
     "output_type": "execute_result"
    }
   ],
   "source": [
    "#check for nulls\n",
    "df1.isna().sum()"
   ]
  },
  {
   "cell_type": "code",
   "execution_count": 23,
   "metadata": {},
   "outputs": [],
   "source": [
    "df1['age'].fillna(df1['age'].median(), inplace = True)"
   ]
  },
  {
   "cell_type": "code",
   "execution_count": 24,
   "metadata": {},
   "outputs": [
    {
     "data": {
      "text/plain": [
       "ncodpers        0\n",
       "sexo            0\n",
       "age             0\n",
       "nomprov         0\n",
       "renta           0\n",
       "segmento        0\n",
       "saving_acc      0\n",
       "current_acc     0\n",
       "e-account       0\n",
       "mortgage        0\n",
       "pension_plan    0\n",
       "dtype: int64"
      ]
     },
     "execution_count": 24,
     "metadata": {},
     "output_type": "execute_result"
    }
   ],
   "source": [
    "df1.isna().sum()"
   ]
  },
  {
   "cell_type": "markdown",
   "metadata": {},
   "source": [
    "The data size is large therefore droping a few row will not have significant impact on our analysis, therefore rows with nan \n",
    "will be dropped"
   ]
  },
  {
   "cell_type": "code",
   "execution_count": null,
   "metadata": {},
   "outputs": [],
   "source": []
  },
  {
   "cell_type": "code",
   "execution_count": null,
   "metadata": {},
   "outputs": [],
   "source": []
  },
  {
   "cell_type": "code",
   "execution_count": 25,
   "metadata": {},
   "outputs": [
    {
     "data": {
      "text/plain": [
       "(3000000, 11)"
      ]
     },
     "execution_count": 25,
     "metadata": {},
     "output_type": "execute_result"
    }
   ],
   "source": [
    "df1.shape"
   ]
  },
  {
   "cell_type": "code",
   "execution_count": 26,
   "metadata": {},
   "outputs": [],
   "source": [
    "#fraction of the data was used for the analysis"
   ]
  },
  {
   "cell_type": "code",
   "execution_count": 27,
   "metadata": {},
   "outputs": [
    {
     "data": {
      "text/html": [
       "<div>\n",
       "<style scoped>\n",
       "    .dataframe tbody tr th:only-of-type {\n",
       "        vertical-align: middle;\n",
       "    }\n",
       "\n",
       "    .dataframe tbody tr th {\n",
       "        vertical-align: top;\n",
       "    }\n",
       "\n",
       "    .dataframe thead th {\n",
       "        text-align: right;\n",
       "    }\n",
       "</style>\n",
       "<table border=\"1\" class=\"dataframe\">\n",
       "  <thead>\n",
       "    <tr style=\"text-align: right;\">\n",
       "      <th></th>\n",
       "      <th>ncodpers</th>\n",
       "      <th>sexo</th>\n",
       "      <th>age</th>\n",
       "      <th>nomprov</th>\n",
       "      <th>renta</th>\n",
       "      <th>segmento</th>\n",
       "      <th>saving_acc</th>\n",
       "      <th>current_acc</th>\n",
       "      <th>e-account</th>\n",
       "      <th>mortgage</th>\n",
       "      <th>pension_plan</th>\n",
       "    </tr>\n",
       "  </thead>\n",
       "  <tbody>\n",
       "    <tr>\n",
       "      <th>2408250</th>\n",
       "      <td>887120</td>\n",
       "      <td>H</td>\n",
       "      <td>29.0</td>\n",
       "      <td>MADRID</td>\n",
       "      <td>64869.57</td>\n",
       "      <td>03 - UNIVERSITARIO</td>\n",
       "      <td>0</td>\n",
       "      <td>0</td>\n",
       "      <td>0</td>\n",
       "      <td>0</td>\n",
       "      <td>0</td>\n",
       "    </tr>\n",
       "    <tr>\n",
       "      <th>2661732</th>\n",
       "      <td>45793</td>\n",
       "      <td>V</td>\n",
       "      <td>50.0</td>\n",
       "      <td>PONTEVEDRA</td>\n",
       "      <td>97640.88</td>\n",
       "      <td>02 - PARTICULARES</td>\n",
       "      <td>0</td>\n",
       "      <td>1</td>\n",
       "      <td>0</td>\n",
       "      <td>0</td>\n",
       "      <td>0</td>\n",
       "    </tr>\n",
       "    <tr>\n",
       "      <th>2608267</th>\n",
       "      <td>1035882</td>\n",
       "      <td>H</td>\n",
       "      <td>41.0</td>\n",
       "      <td>BIZKAIA</td>\n",
       "      <td>119315.31</td>\n",
       "      <td>02 - PARTICULARES</td>\n",
       "      <td>0</td>\n",
       "      <td>0</td>\n",
       "      <td>0</td>\n",
       "      <td>0</td>\n",
       "      <td>0</td>\n",
       "    </tr>\n",
       "    <tr>\n",
       "      <th>137201</th>\n",
       "      <td>990564</td>\n",
       "      <td>V</td>\n",
       "      <td>23.0</td>\n",
       "      <td>TARRAGONA</td>\n",
       "      <td>87984.60</td>\n",
       "      <td>03 - UNIVERSITARIO</td>\n",
       "      <td>0</td>\n",
       "      <td>1</td>\n",
       "      <td>0</td>\n",
       "      <td>0</td>\n",
       "      <td>0</td>\n",
       "    </tr>\n",
       "    <tr>\n",
       "      <th>2850241</th>\n",
       "      <td>312593</td>\n",
       "      <td>H</td>\n",
       "      <td>59.0</td>\n",
       "      <td>MADRID</td>\n",
       "      <td>581543.19</td>\n",
       "      <td>01 - TOP</td>\n",
       "      <td>0</td>\n",
       "      <td>1</td>\n",
       "      <td>0</td>\n",
       "      <td>0</td>\n",
       "      <td>0</td>\n",
       "    </tr>\n",
       "  </tbody>\n",
       "</table>\n",
       "</div>"
      ],
      "text/plain": [
       "         ncodpers sexo   age     nomprov      renta            segmento  \\\n",
       "2408250    887120    H  29.0      MADRID   64869.57  03 - UNIVERSITARIO   \n",
       "2661732     45793    V  50.0  PONTEVEDRA   97640.88   02 - PARTICULARES   \n",
       "2608267   1035882    H  41.0     BIZKAIA  119315.31   02 - PARTICULARES   \n",
       "137201     990564    V  23.0   TARRAGONA   87984.60  03 - UNIVERSITARIO   \n",
       "2850241    312593    H  59.0      MADRID  581543.19            01 - TOP   \n",
       "\n",
       "         saving_acc  current_acc  e-account  mortgage  pension_plan  \n",
       "2408250           0            0          0         0             0  \n",
       "2661732           0            1          0         0             0  \n",
       "2608267           0            0          0         0             0  \n",
       "137201            0            1          0         0             0  \n",
       "2850241           0            1          0         0             0  "
      ]
     },
     "execution_count": 27,
     "metadata": {},
     "output_type": "execute_result"
    }
   ],
   "source": [
    "small_df = df1.sample(frac = 0.25, random_state = 2)\n",
    "small_df.head()"
   ]
  },
  {
   "cell_type": "code",
   "execution_count": 28,
   "metadata": {},
   "outputs": [
    {
     "data": {
      "text/plain": [
       "(750000, 11)"
      ]
     },
     "execution_count": 28,
     "metadata": {},
     "output_type": "execute_result"
    }
   ],
   "source": [
    "small_df.shape"
   ]
  },
  {
   "cell_type": "code",
   "execution_count": null,
   "metadata": {},
   "outputs": [],
   "source": []
  },
  {
   "cell_type": "code",
   "execution_count": 29,
   "metadata": {},
   "outputs": [],
   "source": [
    "#Exploration/Visualization to see pattern"
   ]
  },
  {
   "cell_type": "code",
   "execution_count": 30,
   "metadata": {},
   "outputs": [
    {
     "data": {
      "text/plain": [
       "02 - PARTICULARES     297344\n",
       "01 - TOP              293359\n",
       "03 - UNIVERSITARIO    159297\n",
       "Name: segmento, dtype: int64"
      ]
     },
     "execution_count": 30,
     "metadata": {},
     "output_type": "execute_result"
    }
   ],
   "source": [
    "small_df.segmento.value_counts()"
   ]
  },
  {
   "cell_type": "markdown",
   "metadata": {},
   "source": [
    "Renaming the segmentao column"
   ]
  },
  {
   "cell_type": "code",
   "execution_count": 31,
   "metadata": {},
   "outputs": [],
   "source": [
    "small_df['segmento'] = small_df['segmento'].replace(['02 - PARTICULARES'],'Individual')\n",
    "small_df['segmento'] = small_df['segmento'].replace(['03 - UNIVERSITARIO'],'Graduates')\n",
    "small_df['segmento'] = small_df['segmento'].replace(['01 - TOP'],'VIPs')"
   ]
  },
  {
   "cell_type": "code",
   "execution_count": 32,
   "metadata": {},
   "outputs": [
    {
     "data": {
      "text/plain": [
       "mean       40.166513\n",
       "median     39.000000\n",
       "amin        2.000000\n",
       "amax      164.000000\n",
       "Name: age, dtype: float64"
      ]
     },
     "execution_count": 32,
     "metadata": {},
     "output_type": "execute_result"
    }
   ],
   "source": [
    "small_df['age'].aggregate([np.mean, np.median, np.min,np.max])"
   ]
  },
  {
   "cell_type": "code",
   "execution_count": 33,
   "metadata": {},
   "outputs": [],
   "source": [
    "small_df.loc[small_df['age'] < 18,\"age\"] = 18\n",
    "small_df.loc[small_df['age'] > 90,\"age\"] = 90"
   ]
  },
  {
   "cell_type": "code",
   "execution_count": 34,
   "metadata": {},
   "outputs": [],
   "source": [
    "#categorizing the age column"
   ]
  },
  {
   "cell_type": "code",
   "execution_count": 35,
   "metadata": {},
   "outputs": [
    {
     "data": {
      "text/plain": [
       "18.0"
      ]
     },
     "execution_count": 35,
     "metadata": {},
     "output_type": "execute_result"
    }
   ],
   "source": [
    "small_df.age.min()"
   ]
  },
  {
   "cell_type": "code",
   "execution_count": 36,
   "metadata": {},
   "outputs": [],
   "source": [
    "conditions =[(small_df['age']<30),(small_df['age']>=30)&(small_df['age']< 40),\n",
    "            (small_df['age']>=40)&(small_df['age']< 50),\n",
    "            (small_df['age']>=50)&(small_df['age']<60), (small_df['age']>=60)]\n",
    "values = ['20s','30s','40s','50s','60_and_above']\n",
    "small_df['Age_category'] = np.select(conditions,values)"
   ]
  },
  {
   "cell_type": "code",
   "execution_count": null,
   "metadata": {},
   "outputs": [],
   "source": []
  },
  {
   "cell_type": "markdown",
   "metadata": {},
   "source": [
    "categorizing the renta column "
   ]
  },
  {
   "cell_type": "code",
   "execution_count": 37,
   "metadata": {},
   "outputs": [],
   "source": [
    "conditions =[(small_df['renta']<=31000),(small_df['renta']> 31000)&(small_df['renta']<42000),\n",
    "            (small_df['renta']>42000)&(small_df['renta']<126000),\n",
    "            (small_df['renta']>126000)&(small_df['renta']<188000),(small_df['renta']>188000)]\n",
    "values = ['low_income','low_middle_income','middle_income','upper_middle_income','higher_income']\n",
    "small_df['income_group'] = np.select(conditions,values)"
   ]
  },
  {
   "cell_type": "code",
   "execution_count": 38,
   "metadata": {},
   "outputs": [
    {
     "data": {
      "text/plain": [
       "Index(['ncodpers', 'sexo', 'age', 'nomprov', 'renta', 'segmento', 'saving_acc',\n",
       "       'current_acc', 'e-account', 'mortgage', 'pension_plan', 'Age_category',\n",
       "       'income_group'],\n",
       "      dtype='object')"
      ]
     },
     "execution_count": 38,
     "metadata": {},
     "output_type": "execute_result"
    }
   ],
   "source": [
    "small_df.columns"
   ]
  },
  {
   "cell_type": "code",
   "execution_count": 39,
   "metadata": {},
   "outputs": [],
   "source": [
    "df2= pd.melt(small_df, id_vars=['ncodpers','income_group','sexo','age','renta','segmento','Age_category','nomprov'],\n",
    "                    var_name = 'product_type', value_name = 'product_count')"
   ]
  },
  {
   "cell_type": "code",
   "execution_count": 40,
   "metadata": {},
   "outputs": [
    {
     "data": {
      "text/html": [
       "<div>\n",
       "<style scoped>\n",
       "    .dataframe tbody tr th:only-of-type {\n",
       "        vertical-align: middle;\n",
       "    }\n",
       "\n",
       "    .dataframe tbody tr th {\n",
       "        vertical-align: top;\n",
       "    }\n",
       "\n",
       "    .dataframe thead th {\n",
       "        text-align: right;\n",
       "    }\n",
       "</style>\n",
       "<table border=\"1\" class=\"dataframe\">\n",
       "  <thead>\n",
       "    <tr style=\"text-align: right;\">\n",
       "      <th></th>\n",
       "      <th>ncodpers</th>\n",
       "      <th>income_group</th>\n",
       "      <th>sexo</th>\n",
       "      <th>age</th>\n",
       "      <th>renta</th>\n",
       "      <th>segmento</th>\n",
       "      <th>Age_category</th>\n",
       "      <th>nomprov</th>\n",
       "      <th>product_type</th>\n",
       "      <th>product_count</th>\n",
       "    </tr>\n",
       "  </thead>\n",
       "  <tbody>\n",
       "    <tr>\n",
       "      <th>0</th>\n",
       "      <td>887120</td>\n",
       "      <td>middle_income</td>\n",
       "      <td>H</td>\n",
       "      <td>29.0</td>\n",
       "      <td>64869.57</td>\n",
       "      <td>Graduates</td>\n",
       "      <td>20s</td>\n",
       "      <td>MADRID</td>\n",
       "      <td>saving_acc</td>\n",
       "      <td>0</td>\n",
       "    </tr>\n",
       "    <tr>\n",
       "      <th>1</th>\n",
       "      <td>45793</td>\n",
       "      <td>middle_income</td>\n",
       "      <td>V</td>\n",
       "      <td>50.0</td>\n",
       "      <td>97640.88</td>\n",
       "      <td>Individual</td>\n",
       "      <td>50s</td>\n",
       "      <td>PONTEVEDRA</td>\n",
       "      <td>saving_acc</td>\n",
       "      <td>0</td>\n",
       "    </tr>\n",
       "    <tr>\n",
       "      <th>2</th>\n",
       "      <td>1035882</td>\n",
       "      <td>middle_income</td>\n",
       "      <td>H</td>\n",
       "      <td>41.0</td>\n",
       "      <td>119315.31</td>\n",
       "      <td>Individual</td>\n",
       "      <td>40s</td>\n",
       "      <td>BIZKAIA</td>\n",
       "      <td>saving_acc</td>\n",
       "      <td>0</td>\n",
       "    </tr>\n",
       "    <tr>\n",
       "      <th>3</th>\n",
       "      <td>990564</td>\n",
       "      <td>middle_income</td>\n",
       "      <td>V</td>\n",
       "      <td>23.0</td>\n",
       "      <td>87984.60</td>\n",
       "      <td>Graduates</td>\n",
       "      <td>20s</td>\n",
       "      <td>TARRAGONA</td>\n",
       "      <td>saving_acc</td>\n",
       "      <td>0</td>\n",
       "    </tr>\n",
       "    <tr>\n",
       "      <th>4</th>\n",
       "      <td>312593</td>\n",
       "      <td>higher_income</td>\n",
       "      <td>H</td>\n",
       "      <td>59.0</td>\n",
       "      <td>581543.19</td>\n",
       "      <td>VIPs</td>\n",
       "      <td>50s</td>\n",
       "      <td>MADRID</td>\n",
       "      <td>saving_acc</td>\n",
       "      <td>0</td>\n",
       "    </tr>\n",
       "  </tbody>\n",
       "</table>\n",
       "</div>"
      ],
      "text/plain": [
       "   ncodpers   income_group sexo   age      renta    segmento Age_category  \\\n",
       "0    887120  middle_income    H  29.0   64869.57   Graduates          20s   \n",
       "1     45793  middle_income    V  50.0   97640.88  Individual          50s   \n",
       "2   1035882  middle_income    H  41.0  119315.31  Individual          40s   \n",
       "3    990564  middle_income    V  23.0   87984.60   Graduates          20s   \n",
       "4    312593  higher_income    H  59.0  581543.19        VIPs          50s   \n",
       "\n",
       "      nomprov product_type  product_count  \n",
       "0      MADRID   saving_acc              0  \n",
       "1  PONTEVEDRA   saving_acc              0  \n",
       "2     BIZKAIA   saving_acc              0  \n",
       "3   TARRAGONA   saving_acc              0  \n",
       "4      MADRID   saving_acc              0  "
      ]
     },
     "execution_count": 40,
     "metadata": {},
     "output_type": "execute_result"
    }
   ],
   "source": [
    "df2.head()"
   ]
  },
  {
   "cell_type": "code",
   "execution_count": 41,
   "metadata": {},
   "outputs": [
    {
     "data": {
      "text/plain": [
       "Text(0.5, 1.0, 'Age category Vs Product Count')"
      ]
     },
     "execution_count": 41,
     "metadata": {},
     "output_type": "execute_result"
    },
    {
     "data": {
      "image/png": "[encoded data removed]",
      "text/plain": [
       "<Figure size 720x360 with 1 Axes>"
      ]
     },
     "metadata": {
      "needs_background": "light"
     },
     "output_type": "display_data"
    }
   ],
   "source": [
    "plt.figure(figsize=(10,5))\n",
    "sns.barplot(x = 'Age_category', y = 'product_count',hue = 'product_type', data = df2)\n",
    "plt.title('Age category Vs Product Count')\n"
   ]
  },
  {
   "cell_type": "code",
   "execution_count": 41,
   "metadata": {},
   "outputs": [
    {
     "data": {
      "text/plain": [
       "Text(0.5, 1.0, 'Gender Vs Product Count')"
      ]
     },
     "execution_count": 41,
     "metadata": {},
     "output_type": "execute_result"
    },
    {
     "data": {
      "image/png": "[encoded data removed]",
      "text/plain": [
       "<Figure size 720x360 with 1 Axes>"
      ]
     },
     "metadata": {
      "needs_background": "light"
     },
     "output_type": "display_data"
    }
   ],
   "source": [
    "plt.figure(figsize=(10,5))\n",
    "sns.barplot(x = 'sexo', y = 'product_count',hue = 'product_type', data = df2)\n",
    "plt.title('Gender Vs Product Count')"
   ]
  },
  {
   "cell_type": "code",
   "execution_count": 42,
   "metadata": {},
   "outputs": [
    {
     "data": {
      "text/plain": [
       "Text(0.5, 1.0, 'Income group Vs Product count')"
      ]
     },
     "execution_count": 42,
     "metadata": {},
     "output_type": "execute_result"
    },
    {
     "data": {
      "image/png": "[encoded data removed]",
      "text/plain": [
       "<Figure size 864x720 with 1 Axes>"
      ]
     },
     "metadata": {
      "needs_background": "light"
     },
     "output_type": "display_data"
    }
   ],
   "source": [
    "plt.figure(figsize=(12,10))\n",
    "sns.barplot(x = 'income_group', y = 'product_count',hue = 'product_type', data = df2)\n",
    "plt.title('Income group Vs Product count')"
   ]
  },
  {
   "cell_type": "code",
   "execution_count": null,
   "metadata": {},
   "outputs": [],
   "source": []
  },
  {
   "cell_type": "code",
   "execution_count": 42,
   "metadata": {},
   "outputs": [
    {
     "data": {
      "text/plain": [
       "Text(0.5, 1.0, 'Societal Class Vs Product count')"
      ]
     },
     "execution_count": 42,
     "metadata": {},
     "output_type": "execute_result"
    },
    {
     "data": {
      "image/png": "[encoded data removed]",
      "text/plain": [
       "<Figure size 720x360 with 1 Axes>"
      ]
     },
     "metadata": {
      "needs_background": "light"
     },
     "output_type": "display_data"
    }
   ],
   "source": [
    "plt.figure(figsize=(10,5))\n",
    "sns.barplot(x = 'segmento', y = 'product_count',hue = 'product_type', data = df2)\n",
    "plt.title('Societal Class Vs Product count')"
   ]
  },
  {
   "cell_type": "code",
   "execution_count": null,
   "metadata": {},
   "outputs": [],
   "source": []
  },
  {
   "cell_type": "code",
   "execution_count": 43,
   "metadata": {},
   "outputs": [
    {
     "data": {
      "text/plain": [
       "(187500, 10)"
      ]
     },
     "execution_count": 43,
     "metadata": {},
     "output_type": "execute_result"
    }
   ],
   "source": [
    "small = df2.sample(frac = 0.05, random_state = 0)\n",
    "small.shape"
   ]
  },
  {
   "cell_type": "code",
   "execution_count": 44,
   "metadata": {},
   "outputs": [
    {
     "data": {
      "text/plain": [
       "(3750000, 10)"
      ]
     },
     "execution_count": 44,
     "metadata": {},
     "output_type": "execute_result"
    }
   ],
   "source": [
    "df2.shape"
   ]
  },
  {
   "cell_type": "code",
   "execution_count": 45,
   "metadata": {},
   "outputs": [],
   "source": [
    "#Chi square Test for independence\n",
    "from scipy import stats"
   ]
  },
  {
   "cell_type": "markdown",
   "metadata": {},
   "source": [
    "Chi square test to determine if Age is independent of the product type\n",
    "Null Hypothesis: Age is independent from the type of product an individual will purchase\n",
    "Alternative Hypothesis: Age determines the type of product an individual will purchase.\n",
    "     Alpha = 0.05"
   ]
  },
  {
   "cell_type": "code",
   "execution_count": 46,
   "metadata": {},
   "outputs": [
    {
     "data": {
      "text/html": [
       "<div>\n",
       "<style scoped>\n",
       "    .dataframe tbody tr th:only-of-type {\n",
       "        vertical-align: middle;\n",
       "    }\n",
       "\n",
       "    .dataframe tbody tr th {\n",
       "        vertical-align: top;\n",
       "    }\n",
       "\n",
       "    .dataframe thead th {\n",
       "        text-align: right;\n",
       "    }\n",
       "</style>\n",
       "<table border=\"1\" class=\"dataframe\">\n",
       "  <thead>\n",
       "    <tr style=\"text-align: right;\">\n",
       "      <th>product_type</th>\n",
       "      <th>current_acc</th>\n",
       "      <th>e-account</th>\n",
       "      <th>mortgage</th>\n",
       "      <th>pension_plan</th>\n",
       "      <th>saving_acc</th>\n",
       "    </tr>\n",
       "    <tr>\n",
       "      <th>Age_category</th>\n",
       "      <th></th>\n",
       "      <th></th>\n",
       "      <th></th>\n",
       "      <th></th>\n",
       "      <th></th>\n",
       "    </tr>\n",
       "  </thead>\n",
       "  <tbody>\n",
       "    <tr>\n",
       "      <th>20s</th>\n",
       "      <td>13719</td>\n",
       "      <td>13787</td>\n",
       "      <td>13799</td>\n",
       "      <td>13997</td>\n",
       "      <td>13971</td>\n",
       "    </tr>\n",
       "    <tr>\n",
       "      <th>30s</th>\n",
       "      <td>5482</td>\n",
       "      <td>5464</td>\n",
       "      <td>5383</td>\n",
       "      <td>5437</td>\n",
       "      <td>5506</td>\n",
       "    </tr>\n",
       "    <tr>\n",
       "      <th>40s</th>\n",
       "      <td>8234</td>\n",
       "      <td>8053</td>\n",
       "      <td>8234</td>\n",
       "      <td>8244</td>\n",
       "      <td>8188</td>\n",
       "    </tr>\n",
       "    <tr>\n",
       "      <th>50s</th>\n",
       "      <td>5006</td>\n",
       "      <td>4804</td>\n",
       "      <td>4879</td>\n",
       "      <td>4809</td>\n",
       "      <td>4796</td>\n",
       "    </tr>\n",
       "    <tr>\n",
       "      <th>60_and_above</th>\n",
       "      <td>5230</td>\n",
       "      <td>5247</td>\n",
       "      <td>5076</td>\n",
       "      <td>5154</td>\n",
       "      <td>5001</td>\n",
       "    </tr>\n",
       "  </tbody>\n",
       "</table>\n",
       "</div>"
      ],
      "text/plain": [
       "product_type  current_acc  e-account  mortgage  pension_plan  saving_acc\n",
       "Age_category                                                            \n",
       "20s                 13719      13787     13799         13997       13971\n",
       "30s                  5482       5464      5383          5437        5506\n",
       "40s                  8234       8053      8234          8244        8188\n",
       "50s                  5006       4804      4879          4809        4796\n",
       "60_and_above         5230       5247      5076          5154        5001"
      ]
     },
     "execution_count": 46,
     "metadata": {},
     "output_type": "execute_result"
    }
   ],
   "source": [
    "contigency_table_age = pd.crosstab(small['Age_category'],small['product_type'])\n",
    "contigency_table_age"
   ]
  },
  {
   "cell_type": "code",
   "execution_count": 47,
   "metadata": {},
   "outputs": [
    {
     "data": {
      "text/plain": [
       "(21.59327990042836,\n",
       " 0.15681612292050232,\n",
       " 16,\n",
       " array([[13917.776976  , 13801.02888   , 13806.940176  , 13906.693296  ,\n",
       "         13840.560672  ],\n",
       "        [ 5479.272064  ,  5433.30965333,  5435.636864  ,  5474.908544  ,\n",
       "          5448.87287467],\n",
       "        [ 8227.949136  ,  8158.92968   ,  8162.424336  ,  8221.396656  ,\n",
       "          8182.300192  ],\n",
       "        [ 4880.956128  ,  4840.01264   ,  4842.085728  ,  4877.069088  ,\n",
       "          4853.876416  ],\n",
       "        [ 5165.045696  ,  5121.71914667,  5123.912896  ,  5160.932416  ,\n",
       "          5136.38984533]]))"
      ]
     },
     "execution_count": 47,
     "metadata": {},
     "output_type": "execute_result"
    }
   ],
   "source": [
    "chisq_test = chi2_contingency(contigency_table_age)\n",
    "chisq_test"
   ]
  },
  {
   "cell_type": "markdown",
   "metadata": {},
   "source": [
    " Base on our p-value, we fail to reject hypothesis. we therefore conclude that, we do not have enough evidence to infer that we affect the type of product an individual we purchase"
   ]
  },
  {
   "cell_type": "markdown",
   "metadata": {},
   "source": [
    "Chi square test to determine if sex is independent of the product type\n",
    "Null Hypothesis: sex is independent from the type of product an individual will purchase\n",
    "Alternative Hypothesis: sex determines the type of product an individual will purchase.\n",
    "     Alpha = 0.05"
   ]
  },
  {
   "cell_type": "code",
   "execution_count": 48,
   "metadata": {},
   "outputs": [
    {
     "data": {
      "text/html": [
       "<div>\n",
       "<style scoped>\n",
       "    .dataframe tbody tr th:only-of-type {\n",
       "        vertical-align: middle;\n",
       "    }\n",
       "\n",
       "    .dataframe tbody tr th {\n",
       "        vertical-align: top;\n",
       "    }\n",
       "\n",
       "    .dataframe thead th {\n",
       "        text-align: right;\n",
       "    }\n",
       "</style>\n",
       "<table border=\"1\" class=\"dataframe\">\n",
       "  <thead>\n",
       "    <tr style=\"text-align: right;\">\n",
       "      <th>product_type</th>\n",
       "      <th>current_acc</th>\n",
       "      <th>e-account</th>\n",
       "      <th>mortgage</th>\n",
       "      <th>pension_plan</th>\n",
       "      <th>saving_acc</th>\n",
       "    </tr>\n",
       "    <tr>\n",
       "      <th>sexo</th>\n",
       "      <th></th>\n",
       "      <th></th>\n",
       "      <th></th>\n",
       "      <th></th>\n",
       "      <th></th>\n",
       "    </tr>\n",
       "  </thead>\n",
       "  <tbody>\n",
       "    <tr>\n",
       "      <th>H</th>\n",
       "      <td>341511</td>\n",
       "      <td>341511</td>\n",
       "      <td>341511</td>\n",
       "      <td>341511</td>\n",
       "      <td>341511</td>\n",
       "    </tr>\n",
       "    <tr>\n",
       "      <th>V</th>\n",
       "      <td>408489</td>\n",
       "      <td>408489</td>\n",
       "      <td>408489</td>\n",
       "      <td>408489</td>\n",
       "      <td>408489</td>\n",
       "    </tr>\n",
       "  </tbody>\n",
       "</table>\n",
       "</div>"
      ],
      "text/plain": [
       "product_type  current_acc  e-account  mortgage  pension_plan  saving_acc\n",
       "sexo                                                                    \n",
       "H                  341511     341511    341511        341511      341511\n",
       "V                  408489     408489    408489        408489      408489"
      ]
     },
     "execution_count": 48,
     "metadata": {},
     "output_type": "execute_result"
    }
   ],
   "source": [
    "contigency_sex = pd.crosstab(df2['sexo'],df2['product_type'])\n",
    "contigency_sex\n",
    "    \n"
   ]
  },
  {
   "cell_type": "code",
   "execution_count": null,
   "metadata": {},
   "outputs": [],
   "source": []
  },
  {
   "cell_type": "code",
   "execution_count": 49,
   "metadata": {},
   "outputs": [
    {
     "data": {
      "text/html": [
       "<div>\n",
       "<style scoped>\n",
       "    .dataframe tbody tr th:only-of-type {\n",
       "        vertical-align: middle;\n",
       "    }\n",
       "\n",
       "    .dataframe tbody tr th {\n",
       "        vertical-align: top;\n",
       "    }\n",
       "\n",
       "    .dataframe thead th {\n",
       "        text-align: right;\n",
       "    }\n",
       "</style>\n",
       "<table border=\"1\" class=\"dataframe\">\n",
       "  <thead>\n",
       "    <tr style=\"text-align: right;\">\n",
       "      <th>product_type</th>\n",
       "      <th>current_acc</th>\n",
       "      <th>e-account</th>\n",
       "      <th>mortgage</th>\n",
       "      <th>pension_plan</th>\n",
       "      <th>saving_acc</th>\n",
       "    </tr>\n",
       "    <tr>\n",
       "      <th>sexo</th>\n",
       "      <th></th>\n",
       "      <th></th>\n",
       "      <th></th>\n",
       "      <th></th>\n",
       "      <th></th>\n",
       "    </tr>\n",
       "  </thead>\n",
       "  <tbody>\n",
       "    <tr>\n",
       "      <th>H</th>\n",
       "      <td>17047</td>\n",
       "      <td>17020</td>\n",
       "      <td>16933</td>\n",
       "      <td>17167</td>\n",
       "      <td>17013</td>\n",
       "    </tr>\n",
       "    <tr>\n",
       "      <th>V</th>\n",
       "      <td>20624</td>\n",
       "      <td>20335</td>\n",
       "      <td>20438</td>\n",
       "      <td>20474</td>\n",
       "      <td>20449</td>\n",
       "    </tr>\n",
       "  </tbody>\n",
       "</table>\n",
       "</div>"
      ],
      "text/plain": [
       "product_type  current_acc  e-account  mortgage  pension_plan  saving_acc\n",
       "sexo                                                                    \n",
       "H                   17047      17020     16933         17167       17013\n",
       "V                   20624      20335     20438         20474       20449"
      ]
     },
     "execution_count": 49,
     "metadata": {},
     "output_type": "execute_result"
    }
   ],
   "source": [
    "contigency_table_sex = pd.crosstab(small['sexo'],small['product_type'])\n",
    "contigency_table_sex"
   ]
  },
  {
   "cell_type": "code",
   "execution_count": 50,
   "metadata": {},
   "outputs": [
    {
     "data": {
      "text/plain": [
       "(1.4412792174245748,\n",
       " 0.8369896940918944,\n",
       " 4,\n",
       " array([[17113.68416   , 16970.12746667, 16977.39616   , 17100.05536   ,\n",
       "         17018.73685333],\n",
       "        [20557.31584   , 20384.87253333, 20393.60384   , 20540.94464   ,\n",
       "         20443.26314667]]))"
      ]
     },
     "execution_count": 50,
     "metadata": {},
     "output_type": "execute_result"
    }
   ],
   "source": [
    "chisq_test = chi2_contingency(contigency_table_sex)\n",
    "chisq_test"
   ]
  },
  {
   "cell_type": "markdown",
   "metadata": {},
   "source": [
    "P-value is greater than 0.05, we therefore fail to reject the null hypothesis, and conclude that we do not have enough evidence to infer that product type dependence on sex of the individual"
   ]
  },
  {
   "cell_type": "code",
   "execution_count": 51,
   "metadata": {},
   "outputs": [
    {
     "data": {
      "text/html": [
       "<div>\n",
       "<style scoped>\n",
       "    .dataframe tbody tr th:only-of-type {\n",
       "        vertical-align: middle;\n",
       "    }\n",
       "\n",
       "    .dataframe tbody tr th {\n",
       "        vertical-align: top;\n",
       "    }\n",
       "\n",
       "    .dataframe thead th {\n",
       "        text-align: right;\n",
       "    }\n",
       "</style>\n",
       "<table border=\"1\" class=\"dataframe\">\n",
       "  <thead>\n",
       "    <tr style=\"text-align: right;\">\n",
       "      <th>product_type</th>\n",
       "      <th>current_acc</th>\n",
       "      <th>e-account</th>\n",
       "      <th>mortgage</th>\n",
       "      <th>pension_plan</th>\n",
       "      <th>saving_acc</th>\n",
       "    </tr>\n",
       "    <tr>\n",
       "      <th>income_group</th>\n",
       "      <th></th>\n",
       "      <th></th>\n",
       "      <th></th>\n",
       "      <th></th>\n",
       "      <th></th>\n",
       "    </tr>\n",
       "  </thead>\n",
       "  <tbody>\n",
       "    <tr>\n",
       "      <th>higher_income</th>\n",
       "      <td>5118</td>\n",
       "      <td>5000</td>\n",
       "      <td>4990</td>\n",
       "      <td>5115</td>\n",
       "      <td>4958</td>\n",
       "    </tr>\n",
       "    <tr>\n",
       "      <th>low_income</th>\n",
       "      <td>564</td>\n",
       "      <td>466</td>\n",
       "      <td>529</td>\n",
       "      <td>531</td>\n",
       "      <td>544</td>\n",
       "    </tr>\n",
       "    <tr>\n",
       "      <th>low_middle_income</th>\n",
       "      <td>1233</td>\n",
       "      <td>1220</td>\n",
       "      <td>1207</td>\n",
       "      <td>1214</td>\n",
       "      <td>1231</td>\n",
       "    </tr>\n",
       "    <tr>\n",
       "      <th>middle_income</th>\n",
       "      <td>22622</td>\n",
       "      <td>22605</td>\n",
       "      <td>22550</td>\n",
       "      <td>22673</td>\n",
       "      <td>22543</td>\n",
       "    </tr>\n",
       "    <tr>\n",
       "      <th>upper_middle_income</th>\n",
       "      <td>8134</td>\n",
       "      <td>8064</td>\n",
       "      <td>8095</td>\n",
       "      <td>8108</td>\n",
       "      <td>8186</td>\n",
       "    </tr>\n",
       "  </tbody>\n",
       "</table>\n",
       "</div>"
      ],
      "text/plain": [
       "product_type         current_acc  e-account  mortgage  pension_plan  \\\n",
       "income_group                                                          \n",
       "higher_income               5118       5000      4990          5115   \n",
       "low_income                   564        466       529           531   \n",
       "low_middle_income           1233       1220      1207          1214   \n",
       "middle_income              22622      22605     22550         22673   \n",
       "upper_middle_income         8134       8064      8095          8108   \n",
       "\n",
       "product_type         saving_acc  \n",
       "income_group                     \n",
       "higher_income              4958  \n",
       "low_income                  544  \n",
       "low_middle_income          1231  \n",
       "middle_income             22543  \n",
       "upper_middle_income        8186  "
      ]
     },
     "execution_count": 51,
     "metadata": {},
     "output_type": "execute_result"
    }
   ],
   "source": [
    "contigency_table_income = pd.crosstab(small['income_group'],small['product_type'])\n",
    "contigency_table_income "
   ]
  },
  {
   "cell_type": "code",
   "execution_count": 52,
   "metadata": {},
   "outputs": [
    {
     "data": {
      "text/plain": [
       "(14.318615925113079,\n",
       " 0.5749906812305668,\n",
       " 16,\n",
       " array([[ 5059.165072  ,  5016.72669333,  5018.875472  ,  5055.136112  ,\n",
       "          5031.09665067],\n",
       "        [  529.202208  ,   524.76304   ,   524.987808  ,   528.780768  ,\n",
       "           526.266176  ],\n",
       "        [ 1226.56776   ,  1216.2788    ,  1216.79976   ,  1225.59096   ,\n",
       "          1219.76272   ],\n",
       "        [22701.649616  , 22511.21874667, 22520.860816  , 22683.570736  ,\n",
       "         22575.70008533],\n",
       "        [ 8154.415344  ,  8086.01272   ,  8089.476144  ,  8147.921424  ,\n",
       "          8109.174368  ]]))"
      ]
     },
     "execution_count": 52,
     "metadata": {},
     "output_type": "execute_result"
    }
   ],
   "source": [
    "chisq_test = chi2_contingency(contigency_table_income)\n",
    "chisq_test"
   ]
  },
  {
   "cell_type": "markdown",
   "metadata": {},
   "source": [
    "P-value is greater than 0.05, we therefore fail to reject the null hypothesis, and conclude that we do not have enough evidence to infer that product type dependence on household income of the individual"
   ]
  },
  {
   "cell_type": "code",
   "execution_count": 53,
   "metadata": {},
   "outputs": [
    {
     "data": {
      "text/html": [
       "<div>\n",
       "<style scoped>\n",
       "    .dataframe tbody tr th:only-of-type {\n",
       "        vertical-align: middle;\n",
       "    }\n",
       "\n",
       "    .dataframe tbody tr th {\n",
       "        vertical-align: top;\n",
       "    }\n",
       "\n",
       "    .dataframe thead th {\n",
       "        text-align: right;\n",
       "    }\n",
       "</style>\n",
       "<table border=\"1\" class=\"dataframe\">\n",
       "  <thead>\n",
       "    <tr style=\"text-align: right;\">\n",
       "      <th>product_type</th>\n",
       "      <th>current_acc</th>\n",
       "      <th>e-account</th>\n",
       "      <th>mortgage</th>\n",
       "      <th>pension_plan</th>\n",
       "      <th>saving_acc</th>\n",
       "    </tr>\n",
       "    <tr>\n",
       "      <th>segmento</th>\n",
       "      <th></th>\n",
       "      <th></th>\n",
       "      <th></th>\n",
       "      <th></th>\n",
       "      <th></th>\n",
       "    </tr>\n",
       "  </thead>\n",
       "  <tbody>\n",
       "    <tr>\n",
       "      <th>Graduates</th>\n",
       "      <td>7739</td>\n",
       "      <td>8020</td>\n",
       "      <td>7898</td>\n",
       "      <td>7946</td>\n",
       "      <td>8012</td>\n",
       "    </tr>\n",
       "    <tr>\n",
       "      <th>Individual</th>\n",
       "      <td>15072</td>\n",
       "      <td>14721</td>\n",
       "      <td>14827</td>\n",
       "      <td>14905</td>\n",
       "      <td>14793</td>\n",
       "    </tr>\n",
       "    <tr>\n",
       "      <th>VIPs</th>\n",
       "      <td>14860</td>\n",
       "      <td>14614</td>\n",
       "      <td>14646</td>\n",
       "      <td>14790</td>\n",
       "      <td>14657</td>\n",
       "    </tr>\n",
       "  </tbody>\n",
       "</table>\n",
       "</div>"
      ],
      "text/plain": [
       "product_type  current_acc  e-account  mortgage  pension_plan  saving_acc\n",
       "segmento                                                                \n",
       "Graduates            7739       8020      7898          7946        8012\n",
       "Individual          15072      14721     14827         14905       14793\n",
       "VIPs                14860      14614     14646         14790       14657"
      ]
     },
     "execution_count": 53,
     "metadata": {},
     "output_type": "execute_result"
    }
   ],
   "source": [
    "contigency_table_class = pd.crosstab(small['segmento'],small['product_type'])\n",
    "contigency_table_class "
   ]
  },
  {
   "cell_type": "code",
   "execution_count": 54,
   "metadata": {},
   "outputs": [
    {
     "data": {
      "text/plain": [
       "(12.116034683667085,\n",
       " 0.1461013071323677,\n",
       " 8,\n",
       " array([[ 7959.12888   ,  7892.3644    ,  7895.74488   ,  7952.79048   ,\n",
       "          7914.97136   ],\n",
       "        [14931.378016  , 14806.12741333, 14812.469216  , 14919.487136  ,\n",
       "         14848.53821867],\n",
       "        [14780.493104  , 14656.50818667, 14662.785904  , 14768.722384  ,\n",
       "         14698.49042133]]))"
      ]
     },
     "execution_count": 54,
     "metadata": {},
     "output_type": "execute_result"
    }
   ],
   "source": [
    "chisq_test = chi2_contingency(contigency_table_class)\n",
    "chisq_test"
   ]
  },
  {
   "cell_type": "markdown",
   "metadata": {},
   "source": [
    "P-value is greater than 0.05, we therefore fail to reject the null hypothesis, and conclude that we do not have enough evidence to infer that product type dependence on the class  of the individual"
   ]
  },
  {
   "cell_type": "code",
   "execution_count": 56,
   "metadata": {},
   "outputs": [],
   "source": [
    "#import logistic regression modules\n",
    "from sklearn.model_selection import train_test_split\n",
    "from sklearn.linear_model import LogisticRegression\n",
    "from sklearn import metrics\n",
    "from sklearn.metrics import classification_report"
   ]
  },
  {
   "cell_type": "markdown",
   "metadata": {},
   "source": [
    "creating dummy variables"
   ]
  },
  {
   "cell_type": "code",
   "execution_count": 57,
   "metadata": {},
   "outputs": [
    {
     "data": {
      "text/html": [
       "<div>\n",
       "<style scoped>\n",
       "    .dataframe tbody tr th:only-of-type {\n",
       "        vertical-align: middle;\n",
       "    }\n",
       "\n",
       "    .dataframe tbody tr th {\n",
       "        vertical-align: top;\n",
       "    }\n",
       "\n",
       "    .dataframe thead th {\n",
       "        text-align: right;\n",
       "    }\n",
       "</style>\n",
       "<table border=\"1\" class=\"dataframe\">\n",
       "  <thead>\n",
       "    <tr style=\"text-align: right;\">\n",
       "      <th></th>\n",
       "      <th>ncodpers</th>\n",
       "      <th>income_group</th>\n",
       "      <th>age</th>\n",
       "      <th>renta</th>\n",
       "      <th>Age_category</th>\n",
       "      <th>nomprov</th>\n",
       "      <th>product_type</th>\n",
       "      <th>product_count</th>\n",
       "      <th>sexo_V</th>\n",
       "      <th>segmento_Individual</th>\n",
       "      <th>segmento_VIPs</th>\n",
       "    </tr>\n",
       "  </thead>\n",
       "  <tbody>\n",
       "    <tr>\n",
       "      <th>1695594</th>\n",
       "      <td>1207246</td>\n",
       "      <td>upper_middle_income</td>\n",
       "      <td>26.0</td>\n",
       "      <td>169642.38</td>\n",
       "      <td>20s</td>\n",
       "      <td>ZARAGOZA</td>\n",
       "      <td>e-account</td>\n",
       "      <td>0</td>\n",
       "      <td>0</td>\n",
       "      <td>0</td>\n",
       "      <td>1</td>\n",
       "    </tr>\n",
       "    <tr>\n",
       "      <th>2270995</th>\n",
       "      <td>328293</td>\n",
       "      <td>upper_middle_income</td>\n",
       "      <td>54.0</td>\n",
       "      <td>139267.50</td>\n",
       "      <td>50s</td>\n",
       "      <td>MADRID</td>\n",
       "      <td>mortgage</td>\n",
       "      <td>0</td>\n",
       "      <td>1</td>\n",
       "      <td>0</td>\n",
       "      <td>1</td>\n",
       "    </tr>\n",
       "    <tr>\n",
       "      <th>3243586</th>\n",
       "      <td>1180217</td>\n",
       "      <td>middle_income</td>\n",
       "      <td>22.0</td>\n",
       "      <td>91108.56</td>\n",
       "      <td>20s</td>\n",
       "      <td>BADAJOZ</td>\n",
       "      <td>pension_plan</td>\n",
       "      <td>0</td>\n",
       "      <td>0</td>\n",
       "      <td>0</td>\n",
       "      <td>0</td>\n",
       "    </tr>\n",
       "    <tr>\n",
       "      <th>3176559</th>\n",
       "      <td>1407666</td>\n",
       "      <td>higher_income</td>\n",
       "      <td>21.0</td>\n",
       "      <td>772708.86</td>\n",
       "      <td>20s</td>\n",
       "      <td>GIRONA</td>\n",
       "      <td>pension_plan</td>\n",
       "      <td>0</td>\n",
       "      <td>1</td>\n",
       "      <td>0</td>\n",
       "      <td>1</td>\n",
       "    </tr>\n",
       "    <tr>\n",
       "      <th>3200274</th>\n",
       "      <td>934767</td>\n",
       "      <td>upper_middle_income</td>\n",
       "      <td>24.0</td>\n",
       "      <td>131314.89</td>\n",
       "      <td>20s</td>\n",
       "      <td>BARCELONA</td>\n",
       "      <td>pension_plan</td>\n",
       "      <td>0</td>\n",
       "      <td>0</td>\n",
       "      <td>0</td>\n",
       "      <td>1</td>\n",
       "    </tr>\n",
       "  </tbody>\n",
       "</table>\n",
       "</div>"
      ],
      "text/plain": [
       "         ncodpers         income_group   age      renta Age_category  \\\n",
       "1695594   1207246  upper_middle_income  26.0  169642.38          20s   \n",
       "2270995    328293  upper_middle_income  54.0  139267.50          50s   \n",
       "3243586   1180217        middle_income  22.0   91108.56          20s   \n",
       "3176559   1407666        higher_income  21.0  772708.86          20s   \n",
       "3200274    934767  upper_middle_income  24.0  131314.89          20s   \n",
       "\n",
       "           nomprov  product_type  product_count  sexo_V  segmento_Individual  \\\n",
       "1695594   ZARAGOZA     e-account              0       0                    0   \n",
       "2270995     MADRID      mortgage              0       1                    0   \n",
       "3243586    BADAJOZ  pension_plan              0       0                    0   \n",
       "3176559     GIRONA  pension_plan              0       1                    0   \n",
       "3200274  BARCELONA  pension_plan              0       0                    0   \n",
       "\n",
       "         segmento_VIPs  \n",
       "1695594              1  \n",
       "2270995              1  \n",
       "3243586              0  \n",
       "3176559              1  \n",
       "3200274              1  "
      ]
     },
     "execution_count": 57,
     "metadata": {},
     "output_type": "execute_result"
    }
   ],
   "source": [
    "dummy = pd.get_dummies(small, columns=['sexo','segmento',], drop_first=True)\n",
    "dummy.head()"
   ]
  },
  {
   "cell_type": "markdown",
   "metadata": {},
   "source": [
    "splitting data into train and test data set"
   ]
  },
  {
   "cell_type": "code",
   "execution_count": 58,
   "metadata": {},
   "outputs": [],
   "source": [
    "x = dummy[['age','sexo_V','renta','segmento_Individual','segmento_VIPs']]\n",
    "y = dummy['product_type']"
   ]
  },
  {
   "cell_type": "code",
   "execution_count": 59,
   "metadata": {},
   "outputs": [],
   "source": [
    "X_train,X_test,y_train,y_test=train_test_split(x,y,test_size=0.25,random_state=0)"
   ]
  },
  {
   "cell_type": "code",
   "execution_count": 60,
   "metadata": {},
   "outputs": [
    {
     "name": "stdout",
     "output_type": "stream",
     "text": [
      "(140625, 5)\n",
      "(46875, 5)\n",
      "(140625,)\n",
      "(46875,)\n"
     ]
    }
   ],
   "source": [
    "print(X_train.shape)\n",
    "print(X_test.shape)\n",
    "print(y_train.shape)\n",
    "print(y_test.shape)"
   ]
  },
  {
   "cell_type": "code",
   "execution_count": 61,
   "metadata": {},
   "outputs": [
    {
     "name": "stderr",
     "output_type": "stream",
     "text": [
      "C:\\Users\\cofos\\anaconda3\\lib\\site-packages\\scipy\\optimize\\linesearch.py:477: LineSearchWarning: The line search algorithm did not converge\n",
      "  warn('The line search algorithm did not converge', LineSearchWarning)\n",
      "C:\\Users\\cofos\\anaconda3\\lib\\site-packages\\scipy\\optimize\\linesearch.py:327: LineSearchWarning: The line search algorithm did not converge\n",
      "  warn('The line search algorithm did not converge', LineSearchWarning)\n",
      "C:\\Users\\cofos\\anaconda3\\lib\\site-packages\\scipy\\optimize\\linesearch.py:437: LineSearchWarning: Rounding errors prevent the line search from converging\n",
      "  warn(msg, LineSearchWarning)\n",
      "C:\\Users\\cofos\\anaconda3\\lib\\site-packages\\sklearn\\utils\\optimize.py:204: UserWarning: Line Search failed\n",
      "  warnings.warn('Line Search failed')\n"
     ]
    }
   ],
   "source": [
    "#Building the model\n",
    "model1 = LogisticRegression(random_state=0, multi_class='multinomial', penalty='none', solver='newton-cg').fit(X_train, y_train)\n",
    "preds = model1.predict(X_test)"
   ]
  },
  {
   "cell_type": "code",
   "execution_count": 62,
   "metadata": {},
   "outputs": [
    {
     "name": "stdout",
     "output_type": "stream",
     "text": [
      "{'C': 1.0, 'class_weight': None, 'dual': False, 'fit_intercept': True, 'intercept_scaling': 1, 'l1_ratio': None, 'max_iter': 100, 'multi_class': 'multinomial', 'n_jobs': None, 'penalty': 'none', 'random_state': 0, 'solver': 'newton-cg', 'tol': 0.0001, 'verbose': 0, 'warm_start': False}\n"
     ]
    }
   ],
   "source": [
    "parameters = model1.get_params()\n",
    "print(parameters)"
   ]
  },
  {
   "cell_type": "code",
   "execution_count": 63,
   "metadata": {},
   "outputs": [
    {
     "name": "stdout",
     "output_type": "stream",
     "text": [
      "Intercept: \n",
      " [-0.02190557 -0.01221599 -0.00483748  0.00951065  0.02944838]\n",
      "Coefficients: \n",
      " [[ 4.18748854e-04  1.71386627e-03 -1.48731321e-08  1.57759702e-02\n",
      "   2.11255253e-02]\n",
      " [ 7.51465050e-04 -6.62638758e-03 -4.66190588e-08 -2.09976517e-02\n",
      "  -1.63229785e-02]\n",
      " [-3.39504711e-05  5.78435911e-03  4.27904380e-08 -2.21084941e-03\n",
      "  -8.46807125e-03]\n",
      " [-3.13109921e-04 -8.30305961e-03  1.59383219e-08  9.50663924e-03\n",
      "   1.05511312e-02]\n",
      " [-8.23153511e-04  7.43122180e-03  2.78371532e-09 -2.07410828e-03\n",
      "  -6.88560683e-03]]\n"
     ]
    }
   ],
   "source": [
    "print('Intercept: \\n', model1.intercept_)\n",
    "print('Coefficients: \\n', model1.coef_)"
   ]
  },
  {
   "cell_type": "code",
   "execution_count": 64,
   "metadata": {},
   "outputs": [
    {
     "data": {
      "text/plain": [
       "array([[5352,  145,   67, 1218, 2538],\n",
       "       [5294,  143,   58, 1242, 2666],\n",
       "       [5309,  143,   63, 1213, 2571],\n",
       "       [5296,  140,   69, 1284, 2662],\n",
       "       [5360,  145,   63, 1277, 2557]], dtype=int64)"
      ]
     },
     "execution_count": 64,
     "metadata": {},
     "output_type": "execute_result"
    }
   ],
   "source": [
    "confusion_matrix= metrics.confusion_matrix(y_test, preds)\n",
    "confusion_matrix"
   ]
  },
  {
   "cell_type": "code",
   "execution_count": 65,
   "metadata": {},
   "outputs": [
    {
     "data": {
      "text/plain": [
       "Text(0.5, 257.44, 'Predicted label')"
      ]
     },
     "execution_count": 65,
     "metadata": {},
     "output_type": "execute_result"
    },
    {
     "data": {
      "image/png": "[encoded data removed]",
      "text/plain": [
       "<Figure size 432x288 with 2 Axes>"
      ]
     },
     "metadata": {
      "needs_background": "light"
     },
     "output_type": "display_data"
    }
   ],
   "source": [
    "fig, ax = plt.subplots()\n",
    "sns.heatmap(pd.DataFrame(confusion_matrix), annot=True, cmap=\"YlGnBu\" ,fmt='g')\n",
    "ax.xaxis.set_label_position(\"top\")\n",
    "plt.tight_layout()\n",
    "plt.title('Confusion matrix', y=1.1)\n",
    "plt.ylabel('Actual label')\n",
    "plt.xlabel('Predicted label')"
   ]
  },
  {
   "cell_type": "code",
   "execution_count": 66,
   "metadata": {},
   "outputs": [
    {
     "data": {
      "text/plain": [
       "array([[5352,  145,   67, 1218, 2538],\n",
       "       [5294,  143,   58, 1242, 2666],\n",
       "       [5309,  143,   63, 1213, 2571],\n",
       "       [5296,  140,   69, 1284, 2662],\n",
       "       [5360,  145,   63, 1277, 2557]], dtype=int64)"
      ]
     },
     "execution_count": 66,
     "metadata": {},
     "output_type": "execute_result"
    }
   ],
   "source": [
    "confmtrx = np.array(metrics.confusion_matrix(y_test, preds))\n",
    "confmtrx"
   ]
  },
  {
   "cell_type": "code",
   "execution_count": 67,
   "metadata": {},
   "outputs": [
    {
     "data": {
      "text/html": [
       "<div>\n",
       "<style scoped>\n",
       "    .dataframe tbody tr th:only-of-type {\n",
       "        vertical-align: middle;\n",
       "    }\n",
       "\n",
       "    .dataframe tbody tr th {\n",
       "        vertical-align: top;\n",
       "    }\n",
       "\n",
       "    .dataframe thead th {\n",
       "        text-align: right;\n",
       "    }\n",
       "</style>\n",
       "<table border=\"1\" class=\"dataframe\">\n",
       "  <thead>\n",
       "    <tr style=\"text-align: right;\">\n",
       "      <th></th>\n",
       "      <th>predicted_pension_plan</th>\n",
       "      <th>predicted_current_acc</th>\n",
       "      <th>predicted_e_account</th>\n",
       "      <th>predicted_saving_acc</th>\n",
       "      <th>predicted_mortgage</th>\n",
       "    </tr>\n",
       "  </thead>\n",
       "  <tbody>\n",
       "    <tr>\n",
       "      <th>pension_plan</th>\n",
       "      <td>5352</td>\n",
       "      <td>145</td>\n",
       "      <td>67</td>\n",
       "      <td>1218</td>\n",
       "      <td>2538</td>\n",
       "    </tr>\n",
       "    <tr>\n",
       "      <th>current_acc</th>\n",
       "      <td>5294</td>\n",
       "      <td>143</td>\n",
       "      <td>58</td>\n",
       "      <td>1242</td>\n",
       "      <td>2666</td>\n",
       "    </tr>\n",
       "    <tr>\n",
       "      <th>e_account</th>\n",
       "      <td>5309</td>\n",
       "      <td>143</td>\n",
       "      <td>63</td>\n",
       "      <td>1213</td>\n",
       "      <td>2571</td>\n",
       "    </tr>\n",
       "    <tr>\n",
       "      <th>saving_acc</th>\n",
       "      <td>5296</td>\n",
       "      <td>140</td>\n",
       "      <td>69</td>\n",
       "      <td>1284</td>\n",
       "      <td>2662</td>\n",
       "    </tr>\n",
       "    <tr>\n",
       "      <th>mortgage</th>\n",
       "      <td>5360</td>\n",
       "      <td>145</td>\n",
       "      <td>63</td>\n",
       "      <td>1277</td>\n",
       "      <td>2557</td>\n",
       "    </tr>\n",
       "  </tbody>\n",
       "</table>\n",
       "</div>"
      ],
      "text/plain": [
       "              predicted_pension_plan  predicted_current_acc  \\\n",
       "pension_plan                    5352                    145   \n",
       "current_acc                     5294                    143   \n",
       "e_account                       5309                    143   \n",
       "saving_acc                      5296                    140   \n",
       "mortgage                        5360                    145   \n",
       "\n",
       "              predicted_e_account  predicted_saving_acc  predicted_mortgage  \n",
       "pension_plan                   67                  1218                2538  \n",
       "current_acc                    58                  1242                2666  \n",
       "e_account                      63                  1213                2571  \n",
       "saving_acc                     69                  1284                2662  \n",
       "mortgage                       63                  1277                2557  "
      ]
     },
     "execution_count": 67,
     "metadata": {},
     "output_type": "execute_result"
    }
   ],
   "source": [
    "pd.DataFrame(confmtrx, index=['pension_plan','current_acc', 'e_account','saving_acc','mortgage'],\n",
    "columns=['predicted_pension_plan', 'predicted_current_acc','predicted_e_account','predicted_saving_acc', 'predicted_mortgage'])"
   ]
  },
  {
   "cell_type": "code",
   "execution_count": 68,
   "metadata": {},
   "outputs": [
    {
     "name": "stdout",
     "output_type": "stream",
     "text": [
      "              precision    recall  f1-score   support\n",
      "\n",
      " current_acc       0.20      0.57      0.30      9320\n",
      "   e-account       0.20      0.02      0.03      9403\n",
      "    mortgage       0.20      0.01      0.01      9299\n",
      "pension_plan       0.21      0.14      0.16      9451\n",
      "  saving_acc       0.20      0.27      0.23      9402\n",
      "\n",
      "    accuracy                           0.20     46875\n",
      "   macro avg       0.20      0.20      0.15     46875\n",
      "weighted avg       0.20      0.20      0.15     46875\n",
      "\n"
     ]
    }
   ],
   "source": [
    "classi_report=classification_report(y_test, preds)\n",
    "print(classi_report)"
   ]
  },
  {
   "cell_type": "code",
   "execution_count": null,
   "metadata": {},
   "outputs": [],
   "source": []
  },
  {
   "cell_type": "code",
   "execution_count": null,
   "metadata": {},
   "outputs": [],
   "source": []
  },
  {
   "cell_type": "code",
   "execution_count": null,
   "metadata": {},
   "outputs": [],
   "source": [
    "\n"
   ]
  },
  {
   "cell_type": "code",
   "execution_count": null,
   "metadata": {},
   "outputs": [],
   "source": []
  },
  {
   "cell_type": "code",
   "execution_count": null,
   "metadata": {},
   "outputs": [],
   "source": []
  },
  {
   "cell_type": "code",
   "execution_count": null,
   "metadata": {},
   "outputs": [],
   "source": []
  },
  {
   "cell_type": "code",
   "execution_count": null,
   "metadata": {},
   "outputs": [],
   "source": []
  },
  {
   "cell_type": "code",
   "execution_count": 333,
   "metadata": {},
   "outputs": [],
   "source": []
  },
  {
   "cell_type": "code",
   "execution_count": null,
   "metadata": {},
   "outputs": [],
   "source": []
  },
  {
   "cell_type": "code",
   "execution_count": 356,
   "metadata": {},
   "outputs": [],
   "source": []
  },
  {
   "cell_type": "code",
   "execution_count": null,
   "metadata": {},
   "outputs": [],
   "source": []
  },
  {
   "cell_type": "code",
   "execution_count": null,
   "metadata": {},
   "outputs": [],
   "source": []
  },
  {
   "cell_type": "code",
   "execution_count": null,
   "metadata": {},
   "outputs": [],
   "source": []
  },
  {
   "cell_type": "code",
   "execution_count": null,
   "metadata": {},
   "outputs": [],
   "source": [
    "\n"
   ]
  },
  {
   "cell_type": "code",
   "execution_count": null,
   "metadata": {},
   "outputs": [],
   "source": []
  },
  {
   "cell_type": "code",
   "execution_count": null,
   "metadata": {},
   "outputs": [],
   "source": []
  },
  {
   "cell_type": "code",
   "execution_count": null,
   "metadata": {},
   "outputs": [],
   "source": [
    "\n"
   ]
  },
  {
   "cell_type": "code",
   "execution_count": null,
   "metadata": {},
   "outputs": [],
   "source": []
  },
  {
   "cell_type": "code",
   "execution_count": null,
   "metadata": {},
   "outputs": [],
   "source": []
  },
  {
   "cell_type": "code",
   "execution_count": null,
   "metadata": {},
   "outputs": [],
   "source": []
  },
  {
   "cell_type": "code",
   "execution_count": null,
   "metadata": {},
   "outputs": [],
   "source": []
  },
  {
   "cell_type": "code",
   "execution_count": null,
   "metadata": {},
   "outputs": [],
   "source": []
  },
  {
   "cell_type": "code",
   "execution_count": null,
   "metadata": {},
   "outputs": [],
   "source": []
  },
  {
   "cell_type": "code",
   "execution_count": null,
   "metadata": {},
   "outputs": [],
   "source": []
  },
  {
   "cell_type": "code",
   "execution_count": null,
   "metadata": {},
   "outputs": [],
   "source": []
  },
  {
   "cell_type": "code",
   "execution_count": 78,
   "metadata": {},
   "outputs": [],
   "source": []
  },
  {
   "cell_type": "code",
   "execution_count": 79,
   "metadata": {},
   "outputs": [],
   "source": []
  },
  {
   "cell_type": "code",
   "execution_count": null,
   "metadata": {},
   "outputs": [],
   "source": []
  },
  {
   "cell_type": "code",
   "execution_count": null,
   "metadata": {},
   "outputs": [],
   "source": []
  },
  {
   "cell_type": "code",
   "execution_count": null,
   "metadata": {},
   "outputs": [],
   "source": []
  },
  {
   "cell_type": "code",
   "execution_count": null,
   "metadata": {},
   "outputs": [],
   "source": []
  },
  {
   "cell_type": "code",
   "execution_count": null,
   "metadata": {},
   "outputs": [],
   "source": []
  },
  {
   "cell_type": "code",
   "execution_count": null,
   "metadata": {},
   "outputs": [],
   "source": []
  },
  {
   "cell_type": "code",
   "execution_count": null,
   "metadata": {},
   "outputs": [],
   "source": []
  },
  {
   "cell_type": "code",
   "execution_count": null,
   "metadata": {},
   "outputs": [],
   "source": []
  },
  {
   "cell_type": "code",
   "execution_count": null,
   "metadata": {},
   "outputs": [],
   "source": []
  },
  {
   "cell_type": "code",
   "execution_count": null,
   "metadata": {},
   "outputs": [],
   "source": []
  },
  {
   "cell_type": "code",
   "execution_count": null,
   "metadata": {},
   "outputs": [],
   "source": []
  },
  {
   "cell_type": "code",
   "execution_count": null,
   "metadata": {},
   "outputs": [],
   "source": []
  }
 ],
 "metadata": {
  "kernelspec": {
   "display_name": "Python 3",
   "language": "python",
   "name": "python3"
  },
  "language_info": {
   "codemirror_mode": {
    "name": "ipython",
    "version": 3
   },
   "file_extension": ".py",
   "mimetype": "text/x-python",
   "name": "python",
   "nbconvert_exporter": "python",
   "pygments_lexer": "ipython3",
   "version": "3.8.3"
  }
 },
 "nbformat": 4,
 "nbformat_minor": 4
}
